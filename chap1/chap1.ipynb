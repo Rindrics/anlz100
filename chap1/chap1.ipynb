{
 "cells": [
  {
   "cell_type": "markdown",
   "metadata": {
    "collapsed": false
   },
   "source": [
    "# １章 ウェブの注文数を分析する１０本ノック\n",
    "\n",
    "ここでは、ある企業のECサイトでの商品の注文数の推移を分析していきます。  \n",
    "データの属性を理解し、分析をするためにデータを加工した後、  \n",
    "データの可視化を行うことで問題を発見していくプロセスを学びます。"
   ]
  },
  {
   "cell_type": "markdown",
   "metadata": {
    "collapsed": false
   },
   "source": [
    "### ノック１：データを読み込んでみよう"
   ]
  },
  {
   "cell_type": "code",
   "execution_count": 2,
   "metadata": {
    "collapsed": false
   },
   "outputs": [
    {
     "data": {
      "text/html": [
       "<div>\n",
       "<style scoped>\n",
       "    .dataframe tbody tr th:only-of-type {\n",
       "        vertical-align: middle;\n",
       "    }\n",
       "\n",
       "    .dataframe tbody tr th {\n",
       "        vertical-align: top;\n",
       "    }\n",
       "\n",
       "    .dataframe thead th {\n",
       "        text-align: right;\n",
       "    }\n",
       "</style>\n",
       "<table border=\"1\" class=\"dataframe\">\n",
       "  <thead>\n",
       "    <tr style=\"text-align: right;\">\n",
       "      <th></th>\n",
       "      <th>customer_id</th>\n",
       "      <th>customer_name</th>\n",
       "      <th>registration_date</th>\n",
       "      <th>customer_name_kana</th>\n",
       "      <th>email</th>\n",
       "      <th>gender</th>\n",
       "      <th>age</th>\n",
       "      <th>birth</th>\n",
       "      <th>pref</th>\n",
       "    </tr>\n",
       "  </thead>\n",
       "  <tbody>\n",
       "    <tr>\n",
       "      <th>0</th>\n",
       "      <td>IK152942</td>\n",
       "      <td>平田 裕次郎</td>\n",
       "      <td>2019-01-01 00:25:33</td>\n",
       "      <td>ひらた ゆうじろう</td>\n",
       "      <td>hirata_yuujirou@example.com</td>\n",
       "      <td>M</td>\n",
       "      <td>29</td>\n",
       "      <td>1990/6/10</td>\n",
       "      <td>石川県</td>\n",
       "    </tr>\n",
       "    <tr>\n",
       "      <th>1</th>\n",
       "      <td>TS808488</td>\n",
       "      <td>田村 詩織</td>\n",
       "      <td>2019-01-01 01:13:45</td>\n",
       "      <td>たむら しおり</td>\n",
       "      <td>tamura_shiori@example.com</td>\n",
       "      <td>F</td>\n",
       "      <td>33</td>\n",
       "      <td>1986/5/20</td>\n",
       "      <td>東京都</td>\n",
       "    </tr>\n",
       "    <tr>\n",
       "      <th>2</th>\n",
       "      <td>AS834628</td>\n",
       "      <td>久野 由樹</td>\n",
       "      <td>2019-01-01 02:00:14</td>\n",
       "      <td>ひさの ゆき</td>\n",
       "      <td>hisano_yuki@example.com</td>\n",
       "      <td>F</td>\n",
       "      <td>63</td>\n",
       "      <td>1956/1/2</td>\n",
       "      <td>茨城県</td>\n",
       "    </tr>\n",
       "    <tr>\n",
       "      <th>3</th>\n",
       "      <td>AS345469</td>\n",
       "      <td>鶴岡 薫</td>\n",
       "      <td>2019-01-01 04:48:22</td>\n",
       "      <td>つるおか かおる</td>\n",
       "      <td>tsuruoka_kaoru@example.com</td>\n",
       "      <td>M</td>\n",
       "      <td>74</td>\n",
       "      <td>1945/3/25</td>\n",
       "      <td>東京都</td>\n",
       "    </tr>\n",
       "    <tr>\n",
       "      <th>4</th>\n",
       "      <td>GD892565</td>\n",
       "      <td>大内 高史</td>\n",
       "      <td>2019-01-01 04:54:51</td>\n",
       "      <td>おおうち たかし</td>\n",
       "      <td>oouchi_takashi@example.com</td>\n",
       "      <td>M</td>\n",
       "      <td>54</td>\n",
       "      <td>1965/8/5</td>\n",
       "      <td>千葉県</td>\n",
       "    </tr>\n",
       "  </tbody>\n",
       "</table>\n",
       "</div>"
      ],
      "text/plain": [
       "  customer_id customer_name    registration_date customer_name_kana  \\\n",
       "0    IK152942        平田 裕次郎  2019-01-01 00:25:33          ひらた ゆうじろう   \n",
       "1    TS808488         田村 詩織  2019-01-01 01:13:45            たむら しおり   \n",
       "2    AS834628         久野 由樹  2019-01-01 02:00:14             ひさの ゆき   \n",
       "3    AS345469          鶴岡 薫  2019-01-01 04:48:22           つるおか かおる   \n",
       "4    GD892565         大内 高史  2019-01-01 04:54:51           おおうち たかし   \n",
       "\n",
       "                         email gender  age      birth pref  \n",
       "0  hirata_yuujirou@example.com      M   29  1990/6/10  石川県  \n",
       "1    tamura_shiori@example.com      F   33  1986/5/20  東京都  \n",
       "2      hisano_yuki@example.com      F   63   1956/1/2  茨城県  \n",
       "3   tsuruoka_kaoru@example.com      M   74  1945/3/25  東京都  \n",
       "4   oouchi_takashi@example.com      M   54   1965/8/5  千葉県  "
      ]
     },
     "execution_count": 2,
     "metadata": {},
     "output_type": "execute_result"
    }
   ],
   "source": [
    "import pandas as pd\n",
    "\n",
    "\n",
    "customer_master = pd.read_csv('customer_master.csv')\n",
    "customer_master.head()"
   ]
  },
  {
   "cell_type": "code",
   "execution_count": 3,
   "metadata": {
    "collapsed": false
   },
   "outputs": [
    {
     "data": {
      "text/html": [
       "<div>\n",
       "<style scoped>\n",
       "    .dataframe tbody tr th:only-of-type {\n",
       "        vertical-align: middle;\n",
       "    }\n",
       "\n",
       "    .dataframe tbody tr th {\n",
       "        vertical-align: top;\n",
       "    }\n",
       "\n",
       "    .dataframe thead th {\n",
       "        text-align: right;\n",
       "    }\n",
       "</style>\n",
       "<table border=\"1\" class=\"dataframe\">\n",
       "  <thead>\n",
       "    <tr style=\"text-align: right;\">\n",
       "      <th></th>\n",
       "      <th>item_id</th>\n",
       "      <th>item_name</th>\n",
       "      <th>item_price</th>\n",
       "    </tr>\n",
       "  </thead>\n",
       "  <tbody>\n",
       "    <tr>\n",
       "      <th>0</th>\n",
       "      <td>S001</td>\n",
       "      <td>PC-A</td>\n",
       "      <td>50000</td>\n",
       "    </tr>\n",
       "    <tr>\n",
       "      <th>1</th>\n",
       "      <td>S002</td>\n",
       "      <td>PC-B</td>\n",
       "      <td>85000</td>\n",
       "    </tr>\n",
       "    <tr>\n",
       "      <th>2</th>\n",
       "      <td>S003</td>\n",
       "      <td>PC-C</td>\n",
       "      <td>120000</td>\n",
       "    </tr>\n",
       "    <tr>\n",
       "      <th>3</th>\n",
       "      <td>S004</td>\n",
       "      <td>PC-D</td>\n",
       "      <td>180000</td>\n",
       "    </tr>\n",
       "    <tr>\n",
       "      <th>4</th>\n",
       "      <td>S005</td>\n",
       "      <td>PC-E</td>\n",
       "      <td>210000</td>\n",
       "    </tr>\n",
       "  </tbody>\n",
       "</table>\n",
       "</div>"
      ],
      "text/plain": [
       "  item_id item_name  item_price\n",
       "0    S001      PC-A       50000\n",
       "1    S002      PC-B       85000\n",
       "2    S003      PC-C      120000\n",
       "3    S004      PC-D      180000\n",
       "4    S005      PC-E      210000"
      ]
     },
     "execution_count": 3,
     "metadata": {},
     "output_type": "execute_result"
    }
   ],
   "source": [
    "item_master = pd.read_csv('item_master.csv')\n",
    "item_master.head()"
   ]
  },
  {
   "cell_type": "code",
   "execution_count": 4,
   "metadata": {
    "collapsed": false
   },
   "outputs": [
    {
     "data": {
      "text/html": [
       "<div>\n",
       "<style scoped>\n",
       "    .dataframe tbody tr th:only-of-type {\n",
       "        vertical-align: middle;\n",
       "    }\n",
       "\n",
       "    .dataframe tbody tr th {\n",
       "        vertical-align: top;\n",
       "    }\n",
       "\n",
       "    .dataframe thead th {\n",
       "        text-align: right;\n",
       "    }\n",
       "</style>\n",
       "<table border=\"1\" class=\"dataframe\">\n",
       "  <thead>\n",
       "    <tr style=\"text-align: right;\">\n",
       "      <th></th>\n",
       "      <th>transaction_id</th>\n",
       "      <th>price</th>\n",
       "      <th>payment_date</th>\n",
       "      <th>customer_id</th>\n",
       "    </tr>\n",
       "  </thead>\n",
       "  <tbody>\n",
       "    <tr>\n",
       "      <th>0</th>\n",
       "      <td>T0000000113</td>\n",
       "      <td>210000</td>\n",
       "      <td>2019-02-01 01:36:57</td>\n",
       "      <td>PL563502</td>\n",
       "    </tr>\n",
       "    <tr>\n",
       "      <th>1</th>\n",
       "      <td>T0000000114</td>\n",
       "      <td>50000</td>\n",
       "      <td>2019-02-01 01:37:23</td>\n",
       "      <td>HD678019</td>\n",
       "    </tr>\n",
       "    <tr>\n",
       "      <th>2</th>\n",
       "      <td>T0000000115</td>\n",
       "      <td>120000</td>\n",
       "      <td>2019-02-01 02:34:19</td>\n",
       "      <td>HD298120</td>\n",
       "    </tr>\n",
       "    <tr>\n",
       "      <th>3</th>\n",
       "      <td>T0000000116</td>\n",
       "      <td>210000</td>\n",
       "      <td>2019-02-01 02:47:23</td>\n",
       "      <td>IK452215</td>\n",
       "    </tr>\n",
       "    <tr>\n",
       "      <th>4</th>\n",
       "      <td>T0000000117</td>\n",
       "      <td>170000</td>\n",
       "      <td>2019-02-01 04:33:46</td>\n",
       "      <td>PL542865</td>\n",
       "    </tr>\n",
       "  </tbody>\n",
       "</table>\n",
       "</div>"
      ],
      "text/plain": [
       "  transaction_id   price         payment_date customer_id\n",
       "0    T0000000113  210000  2019-02-01 01:36:57    PL563502\n",
       "1    T0000000114   50000  2019-02-01 01:37:23    HD678019\n",
       "2    T0000000115  120000  2019-02-01 02:34:19    HD298120\n",
       "3    T0000000116  210000  2019-02-01 02:47:23    IK452215\n",
       "4    T0000000117  170000  2019-02-01 04:33:46    PL542865"
      ]
     },
     "execution_count": 4,
     "metadata": {},
     "output_type": "execute_result"
    }
   ],
   "source": [
    "transaction1 = pd.read_csv('transaction_1.csv')\n",
    "transaction1.head()"
   ]
  },
  {
   "cell_type": "code",
   "execution_count": 6,
   "metadata": {
    "collapsed": false
   },
   "outputs": [
    {
     "data": {
      "text/html": [
       "<div>\n",
       "<style scoped>\n",
       "    .dataframe tbody tr th:only-of-type {\n",
       "        vertical-align: middle;\n",
       "    }\n",
       "\n",
       "    .dataframe tbody tr th {\n",
       "        vertical-align: top;\n",
       "    }\n",
       "\n",
       "    .dataframe thead th {\n",
       "        text-align: right;\n",
       "    }\n",
       "</style>\n",
       "<table border=\"1\" class=\"dataframe\">\n",
       "  <thead>\n",
       "    <tr style=\"text-align: right;\">\n",
       "      <th></th>\n",
       "      <th>detail_id</th>\n",
       "      <th>transaction_id</th>\n",
       "      <th>item_id</th>\n",
       "      <th>quantity</th>\n",
       "    </tr>\n",
       "  </thead>\n",
       "  <tbody>\n",
       "    <tr>\n",
       "      <th>0</th>\n",
       "      <td>0</td>\n",
       "      <td>T0000000113</td>\n",
       "      <td>S005</td>\n",
       "      <td>1</td>\n",
       "    </tr>\n",
       "    <tr>\n",
       "      <th>1</th>\n",
       "      <td>1</td>\n",
       "      <td>T0000000114</td>\n",
       "      <td>S001</td>\n",
       "      <td>1</td>\n",
       "    </tr>\n",
       "    <tr>\n",
       "      <th>2</th>\n",
       "      <td>2</td>\n",
       "      <td>T0000000115</td>\n",
       "      <td>S003</td>\n",
       "      <td>1</td>\n",
       "    </tr>\n",
       "    <tr>\n",
       "      <th>3</th>\n",
       "      <td>3</td>\n",
       "      <td>T0000000116</td>\n",
       "      <td>S005</td>\n",
       "      <td>1</td>\n",
       "    </tr>\n",
       "    <tr>\n",
       "      <th>4</th>\n",
       "      <td>4</td>\n",
       "      <td>T0000000117</td>\n",
       "      <td>S002</td>\n",
       "      <td>2</td>\n",
       "    </tr>\n",
       "  </tbody>\n",
       "</table>\n",
       "</div>"
      ],
      "text/plain": [
       "   detail_id transaction_id item_id  quantity\n",
       "0          0    T0000000113    S005         1\n",
       "1          1    T0000000114    S001         1\n",
       "2          2    T0000000115    S003         1\n",
       "3          3    T0000000116    S005         1\n",
       "4          4    T0000000117    S002         2"
      ]
     },
     "execution_count": 6,
     "metadata": {},
     "output_type": "execute_result"
    }
   ],
   "source": [
    "transaction_detail1 = pd.read_csv('transaction_detail_1.csv')\n",
    "transaction_detail1.head()"
   ]
  },
  {
   "cell_type": "markdown",
   "metadata": {
    "collapsed": false
   },
   "source": [
    "### ノック２：データを結合(ユニオン)してみよう"
   ]
  },
  {
   "cell_type": "code",
   "execution_count": 11,
   "metadata": {
    "collapsed": false
   },
   "outputs": [
    {
     "data": {
      "text/html": [
       "<div>\n",
       "<style scoped>\n",
       "    .dataframe tbody tr th:only-of-type {\n",
       "        vertical-align: middle;\n",
       "    }\n",
       "\n",
       "    .dataframe tbody tr th {\n",
       "        vertical-align: top;\n",
       "    }\n",
       "\n",
       "    .dataframe thead th {\n",
       "        text-align: right;\n",
       "    }\n",
       "</style>\n",
       "<table border=\"1\" class=\"dataframe\">\n",
       "  <thead>\n",
       "    <tr style=\"text-align: right;\">\n",
       "      <th></th>\n",
       "      <th>transaction_id</th>\n",
       "      <th>price</th>\n",
       "      <th>payment_date</th>\n",
       "      <th>customer_id</th>\n",
       "    </tr>\n",
       "  </thead>\n",
       "  <tbody>\n",
       "    <tr>\n",
       "      <th>0</th>\n",
       "      <td>T0000000113</td>\n",
       "      <td>210000</td>\n",
       "      <td>2019-02-01 01:36:57</td>\n",
       "      <td>PL563502</td>\n",
       "    </tr>\n",
       "    <tr>\n",
       "      <th>1</th>\n",
       "      <td>T0000000114</td>\n",
       "      <td>50000</td>\n",
       "      <td>2019-02-01 01:37:23</td>\n",
       "      <td>HD678019</td>\n",
       "    </tr>\n",
       "    <tr>\n",
       "      <th>2</th>\n",
       "      <td>T0000000115</td>\n",
       "      <td>120000</td>\n",
       "      <td>2019-02-01 02:34:19</td>\n",
       "      <td>HD298120</td>\n",
       "    </tr>\n",
       "    <tr>\n",
       "      <th>3</th>\n",
       "      <td>T0000000116</td>\n",
       "      <td>210000</td>\n",
       "      <td>2019-02-01 02:47:23</td>\n",
       "      <td>IK452215</td>\n",
       "    </tr>\n",
       "    <tr>\n",
       "      <th>4</th>\n",
       "      <td>T0000000117</td>\n",
       "      <td>170000</td>\n",
       "      <td>2019-02-01 04:33:46</td>\n",
       "      <td>PL542865</td>\n",
       "    </tr>\n",
       "  </tbody>\n",
       "</table>\n",
       "</div>"
      ],
      "text/plain": [
       "  transaction_id   price         payment_date customer_id\n",
       "0    T0000000113  210000  2019-02-01 01:36:57    PL563502\n",
       "1    T0000000114   50000  2019-02-01 01:37:23    HD678019\n",
       "2    T0000000115  120000  2019-02-01 02:34:19    HD298120\n",
       "3    T0000000116  210000  2019-02-01 02:47:23    IK452215\n",
       "4    T0000000117  170000  2019-02-01 04:33:46    PL542865"
      ]
     },
     "execution_count": 11,
     "metadata": {},
     "output_type": "execute_result"
    }
   ],
   "source": [
    "transaction2 = pd.read_csv('transaction_2.csv')\n",
    "transaction = pd.concat([transaction1, transaction2], ignore_index=True)\n",
    "transaction.head()"
   ]
  },
  {
   "cell_type": "code",
   "execution_count": 13,
   "metadata": {
    "collapsed": false
   },
   "outputs": [],
   "source": [
    "transaction_detail2 = pd.read_csv('transaction_detail_2.csv')\n",
    "transaction_detail = pd.concat([transaction_detail1, transaction_detail2], ignore_index=True)"
   ]
  },
  {
   "cell_type": "code",
   "execution_count": 20,
   "metadata": {
    "collapsed": false
   },
   "outputs": [
    {
     "data": {
      "text/plain": [
       "7144"
      ]
     },
     "execution_count": 20,
     "metadata": {},
     "output_type": "execute_result"
    }
   ],
   "source": [
    "len(transaction_detail)"
   ]
  },
  {
   "cell_type": "markdown",
   "metadata": {
    "collapsed": false
   },
   "source": [
    "### ノック３：売上データ同士を結合(ジョイン)してみよう"
   ]
  },
  {
   "cell_type": "code",
   "execution_count": 27,
   "metadata": {
    "collapsed": false
   },
   "outputs": [
    {
     "name": "stdout",
     "output_type": "stream",
     "text": [
      "   detail_id transaction_id item_id  quantity         payment_date customer_id\n",
      "0          0    T0000000113    S005         1  2019-02-01 01:36:57    PL563502\n",
      "1          1    T0000000114    S001         1  2019-02-01 01:37:23    HD678019\n",
      "2          2    T0000000115    S003         1  2019-02-01 02:34:19    HD298120\n",
      "3          3    T0000000116    S005         1  2019-02-01 02:47:23    IK452215\n",
      "4          4    T0000000117    S002         2  2019-02-01 04:33:46    PL542865\n"
     ]
    }
   ],
   "source": [
    "joined_transaction = pd.merge(transaction_detail, transaction[['transaction_id', 'payment_date', 'customer_id']], on='transaction_id', how='left')\n",
    "print(joined_transaction.head())"
   ]
  },
  {
   "cell_type": "code",
   "execution_count": 28,
   "metadata": {
    "collapsed": false
   },
   "outputs": [
    {
     "name": "stdout",
     "output_type": "stream",
     "text": [
      "7144\n",
      "6786\n",
      "7144\n"
     ]
    }
   ],
   "source": [
    "print(len(transaction_detail))\n",
    "print(len(transaction))\n",
    "print(len(joined_transaction))"
   ]
  },
  {
   "cell_type": "markdown",
   "metadata": {
    "collapsed": false
   },
   "source": [
    "### ノック４：マスタデータを結合(ジョイン)してみよう"
   ]
  },
  {
   "cell_type": "code",
   "execution_count": 33,
   "metadata": {
    "collapsed": false
   },
   "outputs": [
    {
     "name": "stdout",
     "output_type": "stream",
     "text": [
      "   detail_id transaction_id item_id  quantity         payment_date  \\\n",
      "0          0    T0000000113    S005         1  2019-02-01 01:36:57   \n",
      "1          1    T0000000114    S001         1  2019-02-01 01:37:23   \n",
      "2          2    T0000000115    S003         1  2019-02-01 02:34:19   \n",
      "3          3    T0000000116    S005         1  2019-02-01 02:47:23   \n",
      "4          4    T0000000117    S002         2  2019-02-01 04:33:46   \n",
      "\n",
      "  customer_id item_name  item_price  \n",
      "0    PL563502      PC-E      210000  \n",
      "1    HD678019      PC-A       50000  \n",
      "2    HD298120      PC-C      120000  \n",
      "3    IK452215      PC-E      210000  \n",
      "4    PL542865      PC-B       85000  \n",
      "   detail_id transaction_id item_id  quantity         payment_date  \\\n",
      "0          0    T0000000113    S005         1  2019-02-01 01:36:57   \n",
      "1          1    T0000000114    S001         1  2019-02-01 01:37:23   \n",
      "2          2    T0000000115    S003         1  2019-02-01 02:34:19   \n",
      "3          3    T0000000116    S005         1  2019-02-01 02:47:23   \n",
      "4          4    T0000000117    S002         2  2019-02-01 04:33:46   \n",
      "\n",
      "  customer_id item_name  item_price customer_name    registration_date  \\\n",
      "0    PL563502      PC-E      210000         井本 芳正  2019-01-07 14:34:35   \n",
      "1    HD678019      PC-A       50000         三船 六郎  2019-01-27 18:00:11   \n",
      "2    HD298120      PC-C      120000         山根 小雁  2019-01-11 08:16:02   \n",
      "3    IK452215      PC-E      210000         池田 菜摘  2019-01-10 05:07:38   \n",
      "4    PL542865      PC-B       85000         栗田 憲一  2019-01-25 06:46:05   \n",
      "\n",
      "  customer_name_kana                        email gender  age       birth pref  \n",
      "0           いもと よしまさ  imoto_yoshimasa@example.com      M   30   1989/7/15  熊本県  \n",
      "1           みふね ろくろう   mifune_rokurou@example.com      M   73  1945/11/29  京都府  \n",
      "2            やまね こがん     yamane_kogan@example.com      M   42   1977/5/17  茨城県  \n",
      "3            いけだ なつみ    ikeda_natsumi@example.com      F   47   1972/3/17  兵庫県  \n",
      "4           くりた けんいち   kurita_kenichi@example.com      M   74  1944/12/17  長崎県  \n"
     ]
    }
   ],
   "source": [
    "joined_data = pd.merge(joined_transaction, item_master, on='item_id', how='left')\n",
    "print(joined_data.head())\n",
    "joined_data = pd.merge(joined_data, customer_master, on='customer_id', how='left')\n",
    "print(joined_data.head())"
   ]
  },
  {
   "cell_type": "markdown",
   "metadata": {
    "collapsed": false
   },
   "source": [
    "### ノック5：必要なデータ列を作ろう"
   ]
  },
  {
   "cell_type": "code",
   "execution_count": 42,
   "metadata": {
    "collapsed": false
   },
   "outputs": [
    {
     "data": {
      "text/plain": [
       "<bound method NDFrame.head of        price  quantity  item_price\n",
       "0     210000         1      210000\n",
       "1      50000         1       50000\n",
       "2     120000         1      120000\n",
       "3     210000         1      210000\n",
       "4     170000         2       85000\n",
       "...      ...       ...         ...\n",
       "7139  180000         1      180000\n",
       "7140   85000         1       85000\n",
       "7141  100000         2       50000\n",
       "7142   85000         1       85000\n",
       "7143   85000         1       85000\n",
       "\n",
       "[7144 rows x 3 columns]>"
      ]
     },
     "execution_count": 42,
     "metadata": {},
     "output_type": "execute_result"
    }
   ],
   "source": [
    "joined_data['price'] = joined_data['quantity'] * joined_data['item_price']\n",
    "joined_data[['price', 'quantity', 'item_price']].head"
   ]
  },
  {
   "cell_type": "markdown",
   "metadata": {
    "collapsed": false
   },
   "source": [
    "### ノック6：データ検算をしよう"
   ]
  },
  {
   "cell_type": "code",
   "execution_count": null,
   "metadata": {
    "collapsed": false
   },
   "outputs": [],
   "source": []
  },
  {
   "cell_type": "code",
   "execution_count": null,
   "metadata": {
    "collapsed": false
   },
   "outputs": [],
   "source": []
  },
  {
   "cell_type": "markdown",
   "metadata": {
    "collapsed": false
   },
   "source": [
    "### ノック7：各種統計量を把握しよう"
   ]
  },
  {
   "cell_type": "code",
   "execution_count": null,
   "metadata": {
    "collapsed": false
   },
   "outputs": [],
   "source": []
  },
  {
   "cell_type": "code",
   "execution_count": null,
   "metadata": {
    "collapsed": false
   },
   "outputs": [],
   "source": []
  },
  {
   "cell_type": "code",
   "execution_count": null,
   "metadata": {
    "collapsed": false
   },
   "outputs": [],
   "source": []
  },
  {
   "cell_type": "markdown",
   "metadata": {
    "collapsed": false
   },
   "source": [
    "### ノック8：月別でデータを集計してみよう"
   ]
  },
  {
   "cell_type": "code",
   "execution_count": null,
   "metadata": {
    "collapsed": false
   },
   "outputs": [],
   "source": []
  },
  {
   "cell_type": "code",
   "execution_count": null,
   "metadata": {
    "collapsed": false
   },
   "outputs": [],
   "source": []
  },
  {
   "cell_type": "code",
   "execution_count": null,
   "metadata": {
    "collapsed": false
   },
   "outputs": [],
   "source": []
  },
  {
   "cell_type": "markdown",
   "metadata": {
    "collapsed": false
   },
   "source": [
    "### ノック9：月別、商品別でデータを集計してみよう"
   ]
  },
  {
   "cell_type": "code",
   "execution_count": null,
   "metadata": {
    "collapsed": false
   },
   "outputs": [],
   "source": []
  },
  {
   "cell_type": "code",
   "execution_count": null,
   "metadata": {
    "collapsed": false
   },
   "outputs": [],
   "source": []
  },
  {
   "cell_type": "markdown",
   "metadata": {
    "collapsed": false
   },
   "source": [
    "### ノック10：商品別の売上推移を可視化してみよう"
   ]
  },
  {
   "cell_type": "code",
   "execution_count": null,
   "metadata": {
    "collapsed": false
   },
   "outputs": [],
   "source": []
  },
  {
   "cell_type": "code",
   "execution_count": null,
   "metadata": {
    "collapsed": false
   },
   "outputs": [],
   "source": []
  },
  {
   "cell_type": "code",
   "execution_count": null,
   "metadata": {
    "collapsed": false
   },
   "outputs": [],
   "source": []
  }
 ],
 "metadata": {
  "kernelspec": {
   "argv": [
    "/usr/local/Cellar/jupyterlab/2.2.8/libexec/bin/python3.8",
    "-m",
    "ipykernel_launcher",
    "-f",
    "{connection_file}"
   ],
   "display_name": "Python 3",
   "env": null,
   "interrupt_mode": "signal",
   "language": "python",
   "metadata": null,
   "name": "python3"
  },
  "language_info": {
   "codemirror_mode": {
    "name": "ipython",
    "version": 3
   },
   "file_extension": ".py",
   "mimetype": "text/x-python",
   "name": "python",
   "nbconvert_exporter": "python",
   "pygments_lexer": "ipython3",
   "version": "3.6.4"
  },
  "name": "chap1.ipynb"
 },
 "nbformat": 4,
 "nbformat_minor": 2
}

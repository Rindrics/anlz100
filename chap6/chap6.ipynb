{
 "cells": [
  {
   "cell_type": "markdown",
   "metadata": {
    "collapsed": false
   },
   "source": [
    "# 6章 物流の最適ルートをコンサルティングする１０本ノック\n",
    "\n",
    "ここでは、「物流」の基礎となる「輸送最適化」を検討するにあたっての基礎的な技術を習得します。  \n",
    "実際の物流データからネットワーク構造を可視化する方法について学び、最適な物流計画を立案する流れを学んでいきます。"
   ]
  },
  {
   "cell_type": "markdown",
   "metadata": {
    "collapsed": false
   },
   "source": [
    "### ノック５１：物流に関するデータを読み込んでみよう"
   ]
  },
  {
   "cell_type": "code",
   "execution_count": 1,
   "metadata": {
    "collapsed": false
   },
   "outputs": [
    {
     "data": {
      "text/html": [
       "<div>\n",
       "<style scoped>\n",
       "    .dataframe tbody tr th:only-of-type {\n",
       "        vertical-align: middle;\n",
       "    }\n",
       "\n",
       "    .dataframe tbody tr th {\n",
       "        vertical-align: top;\n",
       "    }\n",
       "\n",
       "    .dataframe thead th {\n",
       "        text-align: right;\n",
       "    }\n",
       "</style>\n",
       "<table border=\"1\" class=\"dataframe\">\n",
       "  <thead>\n",
       "    <tr style=\"text-align: right;\">\n",
       "      <th></th>\n",
       "      <th>FCName</th>\n",
       "      <th>FCDemand</th>\n",
       "      <th>FCRegion</th>\n",
       "    </tr>\n",
       "    <tr>\n",
       "      <th>FCID</th>\n",
       "      <th></th>\n",
       "      <th></th>\n",
       "      <th></th>\n",
       "    </tr>\n",
       "  </thead>\n",
       "  <tbody>\n",
       "    <tr>\n",
       "      <th>FC00001</th>\n",
       "      <td>東京工場</td>\n",
       "      <td>28</td>\n",
       "      <td>関東</td>\n",
       "    </tr>\n",
       "    <tr>\n",
       "      <th>FC00002</th>\n",
       "      <td>木更津工場</td>\n",
       "      <td>29</td>\n",
       "      <td>関東</td>\n",
       "    </tr>\n",
       "    <tr>\n",
       "      <th>FC00003</th>\n",
       "      <td>多摩工場</td>\n",
       "      <td>31</td>\n",
       "      <td>関東</td>\n",
       "    </tr>\n",
       "    <tr>\n",
       "      <th>FC00004</th>\n",
       "      <td>横須賀工場</td>\n",
       "      <td>25</td>\n",
       "      <td>関東</td>\n",
       "    </tr>\n",
       "    <tr>\n",
       "      <th>FC00005</th>\n",
       "      <td>仙台工場</td>\n",
       "      <td>21</td>\n",
       "      <td>東北</td>\n",
       "    </tr>\n",
       "    <tr>\n",
       "      <th>FC00006</th>\n",
       "      <td>山形工場</td>\n",
       "      <td>30</td>\n",
       "      <td>東北</td>\n",
       "    </tr>\n",
       "    <tr>\n",
       "      <th>FC00007</th>\n",
       "      <td>那須工場</td>\n",
       "      <td>25</td>\n",
       "      <td>東北</td>\n",
       "    </tr>\n",
       "    <tr>\n",
       "      <th>FC00008</th>\n",
       "      <td>青森工場</td>\n",
       "      <td>16</td>\n",
       "      <td>東北</td>\n",
       "    </tr>\n",
       "  </tbody>\n",
       "</table>\n",
       "</div>"
      ],
      "text/plain": [
       "        FCName  FCDemand FCRegion\n",
       "FCID                             \n",
       "FC00001   東京工場        28       関東\n",
       "FC00002  木更津工場        29       関東\n",
       "FC00003   多摩工場        31       関東\n",
       "FC00004  横須賀工場        25       関東\n",
       "FC00005   仙台工場        21       東北\n",
       "FC00006   山形工場        30       東北\n",
       "FC00007   那須工場        25       東北\n",
       "FC00008   青森工場        16       東北"
      ]
     },
     "execution_count": 1,
     "metadata": {},
     "output_type": "execute_result"
    }
   ],
   "source": [
    "import pandas as pd\n",
    "\n",
    "\n",
    "factories = pd.read_csv('tbl_factory.csv', index_col=0)\n",
    "factories"
   ]
  },
  {
   "cell_type": "code",
   "execution_count": 2,
   "metadata": {
    "collapsed": false
   },
   "outputs": [
    {
     "data": {
      "text/html": [
       "<div>\n",
       "<style scoped>\n",
       "    .dataframe tbody tr th:only-of-type {\n",
       "        vertical-align: middle;\n",
       "    }\n",
       "\n",
       "    .dataframe tbody tr th {\n",
       "        vertical-align: top;\n",
       "    }\n",
       "\n",
       "    .dataframe thead th {\n",
       "        text-align: right;\n",
       "    }\n",
       "</style>\n",
       "<table border=\"1\" class=\"dataframe\">\n",
       "  <thead>\n",
       "    <tr style=\"text-align: right;\">\n",
       "      <th></th>\n",
       "      <th>WHName</th>\n",
       "      <th>WHSupply</th>\n",
       "      <th>WHRegion</th>\n",
       "    </tr>\n",
       "    <tr>\n",
       "      <th>WHID</th>\n",
       "      <th></th>\n",
       "      <th></th>\n",
       "      <th></th>\n",
       "    </tr>\n",
       "  </thead>\n",
       "  <tbody>\n",
       "    <tr>\n",
       "      <th>WH00001</th>\n",
       "      <td>杉並倉庫</td>\n",
       "      <td>35</td>\n",
       "      <td>関東</td>\n",
       "    </tr>\n",
       "    <tr>\n",
       "      <th>WH00002</th>\n",
       "      <td>品川倉庫</td>\n",
       "      <td>41</td>\n",
       "      <td>関東</td>\n",
       "    </tr>\n",
       "    <tr>\n",
       "      <th>WH00003</th>\n",
       "      <td>豊洲倉庫</td>\n",
       "      <td>42</td>\n",
       "      <td>関東</td>\n",
       "    </tr>\n",
       "    <tr>\n",
       "      <th>WH00004</th>\n",
       "      <td>郡山倉庫</td>\n",
       "      <td>60</td>\n",
       "      <td>東北</td>\n",
       "    </tr>\n",
       "    <tr>\n",
       "      <th>WH00005</th>\n",
       "      <td>仙台倉庫</td>\n",
       "      <td>72</td>\n",
       "      <td>東北</td>\n",
       "    </tr>\n",
       "    <tr>\n",
       "      <th>WH00006</th>\n",
       "      <td>山形倉庫</td>\n",
       "      <td>65</td>\n",
       "      <td>東北</td>\n",
       "    </tr>\n",
       "  </tbody>\n",
       "</table>\n",
       "</div>"
      ],
      "text/plain": [
       "        WHName  WHSupply WHRegion\n",
       "WHID                             \n",
       "WH00001   杉並倉庫        35       関東\n",
       "WH00002   品川倉庫        41       関東\n",
       "WH00003   豊洲倉庫        42       関東\n",
       "WH00004   郡山倉庫        60       東北\n",
       "WH00005   仙台倉庫        72       東北\n",
       "WH00006   山形倉庫        65       東北"
      ]
     },
     "execution_count": 2,
     "metadata": {},
     "output_type": "execute_result"
    }
   ],
   "source": [
    "warehouses = pd.read_csv('tbl_warehouse.csv', index_col=0)\n",
    "warehouses"
   ]
  },
  {
   "cell_type": "code",
   "execution_count": 3,
   "metadata": {
    "collapsed": false
   },
   "outputs": [
    {
     "data": {
      "text/html": [
       "<div>\n",
       "<style scoped>\n",
       "    .dataframe tbody tr th:only-of-type {\n",
       "        vertical-align: middle;\n",
       "    }\n",
       "\n",
       "    .dataframe tbody tr th {\n",
       "        vertical-align: top;\n",
       "    }\n",
       "\n",
       "    .dataframe thead th {\n",
       "        text-align: right;\n",
       "    }\n",
       "</style>\n",
       "<table border=\"1\" class=\"dataframe\">\n",
       "  <thead>\n",
       "    <tr style=\"text-align: right;\">\n",
       "      <th></th>\n",
       "      <th>FCID</th>\n",
       "      <th>WHID</th>\n",
       "      <th>Cost</th>\n",
       "    </tr>\n",
       "    <tr>\n",
       "      <th>RCostID</th>\n",
       "      <th></th>\n",
       "      <th></th>\n",
       "      <th></th>\n",
       "    </tr>\n",
       "  </thead>\n",
       "  <tbody>\n",
       "    <tr>\n",
       "      <th>1</th>\n",
       "      <td>FC00001</td>\n",
       "      <td>WH00001</td>\n",
       "      <td>0.4</td>\n",
       "    </tr>\n",
       "    <tr>\n",
       "      <th>2</th>\n",
       "      <td>FC00001</td>\n",
       "      <td>WH00002</td>\n",
       "      <td>0.8</td>\n",
       "    </tr>\n",
       "    <tr>\n",
       "      <th>3</th>\n",
       "      <td>FC00001</td>\n",
       "      <td>WH00003</td>\n",
       "      <td>1.5</td>\n",
       "    </tr>\n",
       "    <tr>\n",
       "      <th>4</th>\n",
       "      <td>FC00002</td>\n",
       "      <td>WH00001</td>\n",
       "      <td>0.9</td>\n",
       "    </tr>\n",
       "    <tr>\n",
       "      <th>5</th>\n",
       "      <td>FC00002</td>\n",
       "      <td>WH00002</td>\n",
       "      <td>0.8</td>\n",
       "    </tr>\n",
       "  </tbody>\n",
       "</table>\n",
       "</div>"
      ],
      "text/plain": [
       "            FCID     WHID  Cost\n",
       "RCostID                        \n",
       "1        FC00001  WH00001   0.4\n",
       "2        FC00001  WH00002   0.8\n",
       "3        FC00001  WH00003   1.5\n",
       "4        FC00002  WH00001   0.9\n",
       "5        FC00002  WH00002   0.8"
      ]
     },
     "execution_count": 3,
     "metadata": {},
     "output_type": "execute_result"
    }
   ],
   "source": [
    "cost = pd.read_csv('rel_cost.csv', index_col=0)\n",
    "cost.head()"
   ]
  },
  {
   "cell_type": "code",
   "execution_count": 4,
   "metadata": {
    "collapsed": false
   },
   "outputs": [
    {
     "data": {
      "text/html": [
       "<div>\n",
       "<style scoped>\n",
       "    .dataframe tbody tr th:only-of-type {\n",
       "        vertical-align: middle;\n",
       "    }\n",
       "\n",
       "    .dataframe tbody tr th {\n",
       "        vertical-align: top;\n",
       "    }\n",
       "\n",
       "    .dataframe thead th {\n",
       "        text-align: right;\n",
       "    }\n",
       "</style>\n",
       "<table border=\"1\" class=\"dataframe\">\n",
       "  <thead>\n",
       "    <tr style=\"text-align: right;\">\n",
       "      <th></th>\n",
       "      <th>TransactionDate</th>\n",
       "      <th>ToFC</th>\n",
       "      <th>FromWH</th>\n",
       "      <th>Quantity</th>\n",
       "    </tr>\n",
       "    <tr>\n",
       "      <th>TRID</th>\n",
       "      <th></th>\n",
       "      <th></th>\n",
       "      <th></th>\n",
       "      <th></th>\n",
       "    </tr>\n",
       "  </thead>\n",
       "  <tbody>\n",
       "    <tr>\n",
       "      <th>0</th>\n",
       "      <td>2019-01-01 02:11:10</td>\n",
       "      <td>FC00004</td>\n",
       "      <td>WH00003</td>\n",
       "      <td>33</td>\n",
       "    </tr>\n",
       "    <tr>\n",
       "      <th>1</th>\n",
       "      <td>2019-01-01 06:12:42</td>\n",
       "      <td>FC00007</td>\n",
       "      <td>WH00006</td>\n",
       "      <td>19</td>\n",
       "    </tr>\n",
       "    <tr>\n",
       "      <th>2</th>\n",
       "      <td>2019-01-01 06:32:32</td>\n",
       "      <td>FC00006</td>\n",
       "      <td>WH00004</td>\n",
       "      <td>31</td>\n",
       "    </tr>\n",
       "    <tr>\n",
       "      <th>3</th>\n",
       "      <td>2019-01-01 07:17:06</td>\n",
       "      <td>FC00002</td>\n",
       "      <td>WH00003</td>\n",
       "      <td>18</td>\n",
       "    </tr>\n",
       "    <tr>\n",
       "      <th>4</th>\n",
       "      <td>2019-01-01 07:52:18</td>\n",
       "      <td>FC00001</td>\n",
       "      <td>WH00002</td>\n",
       "      <td>30</td>\n",
       "    </tr>\n",
       "  </tbody>\n",
       "</table>\n",
       "</div>"
      ],
      "text/plain": [
       "          TransactionDate     ToFC   FromWH  Quantity\n",
       "TRID                                                 \n",
       "0     2019-01-01 02:11:10  FC00004  WH00003        33\n",
       "1     2019-01-01 06:12:42  FC00007  WH00006        19\n",
       "2     2019-01-01 06:32:32  FC00006  WH00004        31\n",
       "3     2019-01-01 07:17:06  FC00002  WH00003        18\n",
       "4     2019-01-01 07:52:18  FC00001  WH00002        30"
      ]
     },
     "execution_count": 4,
     "metadata": {},
     "output_type": "execute_result"
    }
   ],
   "source": [
    "trans = pd.read_csv('tbl_transaction.csv', index_col=0)\n",
    "trans.head()"
   ]
  },
  {
   "cell_type": "code",
   "execution_count": 5,
   "metadata": {
    "collapsed": false
   },
   "outputs": [
    {
     "data": {
      "text/html": [
       "<div>\n",
       "<style scoped>\n",
       "    .dataframe tbody tr th:only-of-type {\n",
       "        vertical-align: middle;\n",
       "    }\n",
       "\n",
       "    .dataframe tbody tr th {\n",
       "        vertical-align: top;\n",
       "    }\n",
       "\n",
       "    .dataframe thead th {\n",
       "        text-align: right;\n",
       "    }\n",
       "</style>\n",
       "<table border=\"1\" class=\"dataframe\">\n",
       "  <thead>\n",
       "    <tr style=\"text-align: right;\">\n",
       "      <th></th>\n",
       "      <th>TransactionDate</th>\n",
       "      <th>ToFC</th>\n",
       "      <th>FromWH</th>\n",
       "      <th>Quantity</th>\n",
       "      <th>FCID</th>\n",
       "      <th>WHID</th>\n",
       "      <th>Cost</th>\n",
       "    </tr>\n",
       "  </thead>\n",
       "  <tbody>\n",
       "    <tr>\n",
       "      <th>0</th>\n",
       "      <td>2019-01-01 02:11:10</td>\n",
       "      <td>FC00004</td>\n",
       "      <td>WH00003</td>\n",
       "      <td>33</td>\n",
       "      <td>FC00004</td>\n",
       "      <td>WH00003</td>\n",
       "      <td>1.1</td>\n",
       "    </tr>\n",
       "    <tr>\n",
       "      <th>1</th>\n",
       "      <td>2019-01-01 06:12:42</td>\n",
       "      <td>FC00007</td>\n",
       "      <td>WH00006</td>\n",
       "      <td>19</td>\n",
       "      <td>FC00007</td>\n",
       "      <td>WH00006</td>\n",
       "      <td>1.3</td>\n",
       "    </tr>\n",
       "    <tr>\n",
       "      <th>2</th>\n",
       "      <td>2019-01-01 06:32:32</td>\n",
       "      <td>FC00006</td>\n",
       "      <td>WH00004</td>\n",
       "      <td>31</td>\n",
       "      <td>FC00006</td>\n",
       "      <td>WH00004</td>\n",
       "      <td>0.9</td>\n",
       "    </tr>\n",
       "    <tr>\n",
       "      <th>3</th>\n",
       "      <td>2019-01-01 07:17:06</td>\n",
       "      <td>FC00002</td>\n",
       "      <td>WH00003</td>\n",
       "      <td>18</td>\n",
       "      <td>FC00002</td>\n",
       "      <td>WH00003</td>\n",
       "      <td>1.6</td>\n",
       "    </tr>\n",
       "    <tr>\n",
       "      <th>4</th>\n",
       "      <td>2019-01-01 07:52:18</td>\n",
       "      <td>FC00001</td>\n",
       "      <td>WH00002</td>\n",
       "      <td>30</td>\n",
       "      <td>FC00001</td>\n",
       "      <td>WH00002</td>\n",
       "      <td>0.8</td>\n",
       "    </tr>\n",
       "  </tbody>\n",
       "</table>\n",
       "</div>"
      ],
      "text/plain": [
       "       TransactionDate     ToFC   FromWH  Quantity     FCID     WHID  Cost\n",
       "0  2019-01-01 02:11:10  FC00004  WH00003        33  FC00004  WH00003   1.1\n",
       "1  2019-01-01 06:12:42  FC00007  WH00006        19  FC00007  WH00006   1.3\n",
       "2  2019-01-01 06:32:32  FC00006  WH00004        31  FC00006  WH00004   0.9\n",
       "3  2019-01-01 07:17:06  FC00002  WH00003        18  FC00002  WH00003   1.6\n",
       "4  2019-01-01 07:52:18  FC00001  WH00002        30  FC00001  WH00002   0.8"
      ]
     },
     "execution_count": 5,
     "metadata": {},
     "output_type": "execute_result"
    }
   ],
   "source": [
    "joined_data = pd.merge(trans, cost, left_on=['ToFC', 'FromWH'], right_on=['FCID', 'WHID'], how='left')\n",
    "joined_data.head()"
   ]
  },
  {
   "cell_type": "code",
   "execution_count": 6,
   "metadata": {
    "collapsed": false
   },
   "outputs": [
    {
     "data": {
      "text/html": [
       "<div>\n",
       "<style scoped>\n",
       "    .dataframe tbody tr th:only-of-type {\n",
       "        vertical-align: middle;\n",
       "    }\n",
       "\n",
       "    .dataframe tbody tr th {\n",
       "        vertical-align: top;\n",
       "    }\n",
       "\n",
       "    .dataframe thead th {\n",
       "        text-align: right;\n",
       "    }\n",
       "</style>\n",
       "<table border=\"1\" class=\"dataframe\">\n",
       "  <thead>\n",
       "    <tr style=\"text-align: right;\">\n",
       "      <th></th>\n",
       "      <th>TransactionDate</th>\n",
       "      <th>ToFC</th>\n",
       "      <th>FromWH</th>\n",
       "      <th>Quantity</th>\n",
       "      <th>FCID</th>\n",
       "      <th>WHID</th>\n",
       "      <th>Cost</th>\n",
       "      <th>FCName</th>\n",
       "      <th>FCDemand</th>\n",
       "      <th>FCRegion</th>\n",
       "    </tr>\n",
       "  </thead>\n",
       "  <tbody>\n",
       "    <tr>\n",
       "      <th>0</th>\n",
       "      <td>2019-01-01 02:11:10</td>\n",
       "      <td>FC00004</td>\n",
       "      <td>WH00003</td>\n",
       "      <td>33</td>\n",
       "      <td>FC00004</td>\n",
       "      <td>WH00003</td>\n",
       "      <td>1.1</td>\n",
       "      <td>横須賀工場</td>\n",
       "      <td>25</td>\n",
       "      <td>関東</td>\n",
       "    </tr>\n",
       "    <tr>\n",
       "      <th>1</th>\n",
       "      <td>2019-01-01 06:12:42</td>\n",
       "      <td>FC00007</td>\n",
       "      <td>WH00006</td>\n",
       "      <td>19</td>\n",
       "      <td>FC00007</td>\n",
       "      <td>WH00006</td>\n",
       "      <td>1.3</td>\n",
       "      <td>那須工場</td>\n",
       "      <td>25</td>\n",
       "      <td>東北</td>\n",
       "    </tr>\n",
       "    <tr>\n",
       "      <th>2</th>\n",
       "      <td>2019-01-01 06:32:32</td>\n",
       "      <td>FC00006</td>\n",
       "      <td>WH00004</td>\n",
       "      <td>31</td>\n",
       "      <td>FC00006</td>\n",
       "      <td>WH00004</td>\n",
       "      <td>0.9</td>\n",
       "      <td>山形工場</td>\n",
       "      <td>30</td>\n",
       "      <td>東北</td>\n",
       "    </tr>\n",
       "    <tr>\n",
       "      <th>3</th>\n",
       "      <td>2019-01-01 07:17:06</td>\n",
       "      <td>FC00002</td>\n",
       "      <td>WH00003</td>\n",
       "      <td>18</td>\n",
       "      <td>FC00002</td>\n",
       "      <td>WH00003</td>\n",
       "      <td>1.6</td>\n",
       "      <td>木更津工場</td>\n",
       "      <td>29</td>\n",
       "      <td>関東</td>\n",
       "    </tr>\n",
       "    <tr>\n",
       "      <th>4</th>\n",
       "      <td>2019-01-01 07:52:18</td>\n",
       "      <td>FC00001</td>\n",
       "      <td>WH00002</td>\n",
       "      <td>30</td>\n",
       "      <td>FC00001</td>\n",
       "      <td>WH00002</td>\n",
       "      <td>0.8</td>\n",
       "      <td>東京工場</td>\n",
       "      <td>28</td>\n",
       "      <td>関東</td>\n",
       "    </tr>\n",
       "  </tbody>\n",
       "</table>\n",
       "</div>"
      ],
      "text/plain": [
       "       TransactionDate     ToFC   FromWH  Quantity     FCID     WHID  Cost  \\\n",
       "0  2019-01-01 02:11:10  FC00004  WH00003        33  FC00004  WH00003   1.1   \n",
       "1  2019-01-01 06:12:42  FC00007  WH00006        19  FC00007  WH00006   1.3   \n",
       "2  2019-01-01 06:32:32  FC00006  WH00004        31  FC00006  WH00004   0.9   \n",
       "3  2019-01-01 07:17:06  FC00002  WH00003        18  FC00002  WH00003   1.6   \n",
       "4  2019-01-01 07:52:18  FC00001  WH00002        30  FC00001  WH00002   0.8   \n",
       "\n",
       "  FCName  FCDemand FCRegion  \n",
       "0  横須賀工場        25       関東  \n",
       "1   那須工場        25       東北  \n",
       "2   山形工場        30       東北  \n",
       "3  木更津工場        29       関東  \n",
       "4   東京工場        28       関東  "
      ]
     },
     "execution_count": 6,
     "metadata": {},
     "output_type": "execute_result"
    }
   ],
   "source": [
    "joined_data = pd.merge(joined_data, factories, left_on='ToFC', right_on='FCID', how='left')\n",
    "joined_data.head()"
   ]
  },
  {
   "cell_type": "code",
   "execution_count": 7,
   "metadata": {
    "collapsed": false
   },
   "outputs": [
    {
     "data": {
      "text/html": [
       "<div>\n",
       "<style scoped>\n",
       "    .dataframe tbody tr th:only-of-type {\n",
       "        vertical-align: middle;\n",
       "    }\n",
       "\n",
       "    .dataframe tbody tr th {\n",
       "        vertical-align: top;\n",
       "    }\n",
       "\n",
       "    .dataframe thead th {\n",
       "        text-align: right;\n",
       "    }\n",
       "</style>\n",
       "<table border=\"1\" class=\"dataframe\">\n",
       "  <thead>\n",
       "    <tr style=\"text-align: right;\">\n",
       "      <th></th>\n",
       "      <th>TransactionDate</th>\n",
       "      <th>Quantity</th>\n",
       "      <th>Cost</th>\n",
       "      <th>ToFC</th>\n",
       "      <th>FCName</th>\n",
       "      <th>FCDemand</th>\n",
       "      <th>FromWH</th>\n",
       "      <th>WHName</th>\n",
       "      <th>WHSupply</th>\n",
       "      <th>WHRegion</th>\n",
       "    </tr>\n",
       "  </thead>\n",
       "  <tbody>\n",
       "    <tr>\n",
       "      <th>0</th>\n",
       "      <td>2019-01-01 02:11:10</td>\n",
       "      <td>33</td>\n",
       "      <td>1.1</td>\n",
       "      <td>FC00004</td>\n",
       "      <td>横須賀工場</td>\n",
       "      <td>25</td>\n",
       "      <td>WH00003</td>\n",
       "      <td>豊洲倉庫</td>\n",
       "      <td>42</td>\n",
       "      <td>関東</td>\n",
       "    </tr>\n",
       "    <tr>\n",
       "      <th>1</th>\n",
       "      <td>2019-01-01 07:17:06</td>\n",
       "      <td>18</td>\n",
       "      <td>1.6</td>\n",
       "      <td>FC00002</td>\n",
       "      <td>木更津工場</td>\n",
       "      <td>29</td>\n",
       "      <td>WH00003</td>\n",
       "      <td>豊洲倉庫</td>\n",
       "      <td>42</td>\n",
       "      <td>関東</td>\n",
       "    </tr>\n",
       "    <tr>\n",
       "      <th>2</th>\n",
       "      <td>2019-01-01 09:09:30</td>\n",
       "      <td>12</td>\n",
       "      <td>1.5</td>\n",
       "      <td>FC00001</td>\n",
       "      <td>東京工場</td>\n",
       "      <td>28</td>\n",
       "      <td>WH00003</td>\n",
       "      <td>豊洲倉庫</td>\n",
       "      <td>42</td>\n",
       "      <td>関東</td>\n",
       "    </tr>\n",
       "    <tr>\n",
       "      <th>3</th>\n",
       "      <td>2019-01-01 10:52:55</td>\n",
       "      <td>27</td>\n",
       "      <td>1.5</td>\n",
       "      <td>FC00003</td>\n",
       "      <td>多摩工場</td>\n",
       "      <td>31</td>\n",
       "      <td>WH00003</td>\n",
       "      <td>豊洲倉庫</td>\n",
       "      <td>42</td>\n",
       "      <td>関東</td>\n",
       "    </tr>\n",
       "    <tr>\n",
       "      <th>4</th>\n",
       "      <td>2019-01-03 20:23:03</td>\n",
       "      <td>17</td>\n",
       "      <td>1.6</td>\n",
       "      <td>FC00002</td>\n",
       "      <td>木更津工場</td>\n",
       "      <td>29</td>\n",
       "      <td>WH00003</td>\n",
       "      <td>豊洲倉庫</td>\n",
       "      <td>42</td>\n",
       "      <td>関東</td>\n",
       "    </tr>\n",
       "  </tbody>\n",
       "</table>\n",
       "</div>"
      ],
      "text/plain": [
       "       TransactionDate  Quantity  Cost     ToFC FCName  FCDemand   FromWH  \\\n",
       "0  2019-01-01 02:11:10        33   1.1  FC00004  横須賀工場        25  WH00003   \n",
       "1  2019-01-01 07:17:06        18   1.6  FC00002  木更津工場        29  WH00003   \n",
       "2  2019-01-01 09:09:30        12   1.5  FC00001   東京工場        28  WH00003   \n",
       "3  2019-01-01 10:52:55        27   1.5  FC00003   多摩工場        31  WH00003   \n",
       "4  2019-01-03 20:23:03        17   1.6  FC00002  木更津工場        29  WH00003   \n",
       "\n",
       "  WHName  WHSupply WHRegion  \n",
       "0   豊洲倉庫        42       関東  \n",
       "1   豊洲倉庫        42       関東  \n",
       "2   豊洲倉庫        42       関東  \n",
       "3   豊洲倉庫        42       関東  \n",
       "4   豊洲倉庫        42       関東  "
      ]
     },
     "execution_count": 7,
     "metadata": {},
     "output_type": "execute_result"
    }
   ],
   "source": [
    "joined_data = pd.merge(joined_data, warehouses, left_on=['FromWH'], right_on=['WHID'])\n",
    "joined_data = joined_data[['TransactionDate', 'Quantity', 'Cost', 'ToFC', 'FCName', 'FCDemand', 'FromWH', 'WHName', 'WHSupply', 'WHRegion']]\n",
    "joined_data.head()"
   ]
  },
  {
   "cell_type": "code",
   "execution_count": 9,
   "metadata": {
    "collapsed": false
   },
   "outputs": [
    {
     "data": {
      "text/html": [
       "<div>\n",
       "<style scoped>\n",
       "    .dataframe tbody tr th:only-of-type {\n",
       "        vertical-align: middle;\n",
       "    }\n",
       "\n",
       "    .dataframe tbody tr th {\n",
       "        vertical-align: top;\n",
       "    }\n",
       "\n",
       "    .dataframe thead th {\n",
       "        text-align: right;\n",
       "    }\n",
       "</style>\n",
       "<table border=\"1\" class=\"dataframe\">\n",
       "  <thead>\n",
       "    <tr style=\"text-align: right;\">\n",
       "      <th></th>\n",
       "      <th>TransactionDate</th>\n",
       "      <th>Quantity</th>\n",
       "      <th>Cost</th>\n",
       "      <th>ToFC</th>\n",
       "      <th>FCName</th>\n",
       "      <th>FCDemand</th>\n",
       "      <th>FromWH</th>\n",
       "      <th>WHName</th>\n",
       "      <th>WHSupply</th>\n",
       "      <th>WHRegion</th>\n",
       "    </tr>\n",
       "  </thead>\n",
       "  <tbody>\n",
       "    <tr>\n",
       "      <th>0</th>\n",
       "      <td>2019-01-01 02:11:10</td>\n",
       "      <td>33</td>\n",
       "      <td>1.1</td>\n",
       "      <td>FC00004</td>\n",
       "      <td>横須賀工場</td>\n",
       "      <td>25</td>\n",
       "      <td>WH00003</td>\n",
       "      <td>豊洲倉庫</td>\n",
       "      <td>42</td>\n",
       "      <td>関東</td>\n",
       "    </tr>\n",
       "    <tr>\n",
       "      <th>1</th>\n",
       "      <td>2019-01-01 07:17:06</td>\n",
       "      <td>18</td>\n",
       "      <td>1.6</td>\n",
       "      <td>FC00002</td>\n",
       "      <td>木更津工場</td>\n",
       "      <td>29</td>\n",
       "      <td>WH00003</td>\n",
       "      <td>豊洲倉庫</td>\n",
       "      <td>42</td>\n",
       "      <td>関東</td>\n",
       "    </tr>\n",
       "    <tr>\n",
       "      <th>2</th>\n",
       "      <td>2019-01-01 09:09:30</td>\n",
       "      <td>12</td>\n",
       "      <td>1.5</td>\n",
       "      <td>FC00001</td>\n",
       "      <td>東京工場</td>\n",
       "      <td>28</td>\n",
       "      <td>WH00003</td>\n",
       "      <td>豊洲倉庫</td>\n",
       "      <td>42</td>\n",
       "      <td>関東</td>\n",
       "    </tr>\n",
       "    <tr>\n",
       "      <th>3</th>\n",
       "      <td>2019-01-01 10:52:55</td>\n",
       "      <td>27</td>\n",
       "      <td>1.5</td>\n",
       "      <td>FC00003</td>\n",
       "      <td>多摩工場</td>\n",
       "      <td>31</td>\n",
       "      <td>WH00003</td>\n",
       "      <td>豊洲倉庫</td>\n",
       "      <td>42</td>\n",
       "      <td>関東</td>\n",
       "    </tr>\n",
       "    <tr>\n",
       "      <th>4</th>\n",
       "      <td>2019-01-03 20:23:03</td>\n",
       "      <td>17</td>\n",
       "      <td>1.6</td>\n",
       "      <td>FC00002</td>\n",
       "      <td>木更津工場</td>\n",
       "      <td>29</td>\n",
       "      <td>WH00003</td>\n",
       "      <td>豊洲倉庫</td>\n",
       "      <td>42</td>\n",
       "      <td>関東</td>\n",
       "    </tr>\n",
       "    <tr>\n",
       "      <th>...</th>\n",
       "      <td>...</td>\n",
       "      <td>...</td>\n",
       "      <td>...</td>\n",
       "      <td>...</td>\n",
       "      <td>...</td>\n",
       "      <td>...</td>\n",
       "      <td>...</td>\n",
       "      <td>...</td>\n",
       "      <td>...</td>\n",
       "      <td>...</td>\n",
       "    </tr>\n",
       "    <tr>\n",
       "      <th>3995</th>\n",
       "      <td>2019-12-26 15:51:46</td>\n",
       "      <td>12</td>\n",
       "      <td>0.8</td>\n",
       "      <td>FC00004</td>\n",
       "      <td>横須賀工場</td>\n",
       "      <td>25</td>\n",
       "      <td>WH00001</td>\n",
       "      <td>杉並倉庫</td>\n",
       "      <td>35</td>\n",
       "      <td>関東</td>\n",
       "    </tr>\n",
       "    <tr>\n",
       "      <th>3996</th>\n",
       "      <td>2019-12-27 07:46:13</td>\n",
       "      <td>15</td>\n",
       "      <td>1.2</td>\n",
       "      <td>FC00003</td>\n",
       "      <td>多摩工場</td>\n",
       "      <td>31</td>\n",
       "      <td>WH00001</td>\n",
       "      <td>杉並倉庫</td>\n",
       "      <td>35</td>\n",
       "      <td>関東</td>\n",
       "    </tr>\n",
       "    <tr>\n",
       "      <th>3997</th>\n",
       "      <td>2019-12-27 17:09:28</td>\n",
       "      <td>28</td>\n",
       "      <td>1.2</td>\n",
       "      <td>FC00003</td>\n",
       "      <td>多摩工場</td>\n",
       "      <td>31</td>\n",
       "      <td>WH00001</td>\n",
       "      <td>杉並倉庫</td>\n",
       "      <td>35</td>\n",
       "      <td>関東</td>\n",
       "    </tr>\n",
       "    <tr>\n",
       "      <th>3998</th>\n",
       "      <td>2019-12-30 12:29:42</td>\n",
       "      <td>22</td>\n",
       "      <td>0.9</td>\n",
       "      <td>FC00002</td>\n",
       "      <td>木更津工場</td>\n",
       "      <td>29</td>\n",
       "      <td>WH00001</td>\n",
       "      <td>杉並倉庫</td>\n",
       "      <td>35</td>\n",
       "      <td>関東</td>\n",
       "    </tr>\n",
       "    <tr>\n",
       "      <th>3999</th>\n",
       "      <td>2019-12-31 19:35:07</td>\n",
       "      <td>36</td>\n",
       "      <td>1.2</td>\n",
       "      <td>FC00003</td>\n",
       "      <td>多摩工場</td>\n",
       "      <td>31</td>\n",
       "      <td>WH00001</td>\n",
       "      <td>杉並倉庫</td>\n",
       "      <td>35</td>\n",
       "      <td>関東</td>\n",
       "    </tr>\n",
       "  </tbody>\n",
       "</table>\n",
       "<p>2000 rows × 10 columns</p>\n",
       "</div>"
      ],
      "text/plain": [
       "          TransactionDate  Quantity  Cost     ToFC FCName  FCDemand   FromWH  \\\n",
       "0     2019-01-01 02:11:10        33   1.1  FC00004  横須賀工場        25  WH00003   \n",
       "1     2019-01-01 07:17:06        18   1.6  FC00002  木更津工場        29  WH00003   \n",
       "2     2019-01-01 09:09:30        12   1.5  FC00001   東京工場        28  WH00003   \n",
       "3     2019-01-01 10:52:55        27   1.5  FC00003   多摩工場        31  WH00003   \n",
       "4     2019-01-03 20:23:03        17   1.6  FC00002  木更津工場        29  WH00003   \n",
       "...                   ...       ...   ...      ...    ...       ...      ...   \n",
       "3995  2019-12-26 15:51:46        12   0.8  FC00004  横須賀工場        25  WH00001   \n",
       "3996  2019-12-27 07:46:13        15   1.2  FC00003   多摩工場        31  WH00001   \n",
       "3997  2019-12-27 17:09:28        28   1.2  FC00003   多摩工場        31  WH00001   \n",
       "3998  2019-12-30 12:29:42        22   0.9  FC00002  木更津工場        29  WH00001   \n",
       "3999  2019-12-31 19:35:07        36   1.2  FC00003   多摩工場        31  WH00001   \n",
       "\n",
       "     WHName  WHSupply WHRegion  \n",
       "0      豊洲倉庫        42       関東  \n",
       "1      豊洲倉庫        42       関東  \n",
       "2      豊洲倉庫        42       関東  \n",
       "3      豊洲倉庫        42       関東  \n",
       "4      豊洲倉庫        42       関東  \n",
       "...     ...       ...      ...  \n",
       "3995   杉並倉庫        35       関東  \n",
       "3996   杉並倉庫        35       関東  \n",
       "3997   杉並倉庫        35       関東  \n",
       "3998   杉並倉庫        35       関東  \n",
       "3999   杉並倉庫        35       関東  \n",
       "\n",
       "[2000 rows x 10 columns]"
      ]
     },
     "execution_count": 9,
     "metadata": {},
     "output_type": "execute_result"
    }
   ],
   "source": [
    "kanto = joined_data.loc[joined_data['WHRegion']=='関東']\n",
    "kanto"
   ]
  },
  {
   "cell_type": "code",
   "execution_count": 10,
   "metadata": {
    "collapsed": false
   },
   "outputs": [
    {
     "data": {
      "text/html": [
       "<div>\n",
       "<style scoped>\n",
       "    .dataframe tbody tr th:only-of-type {\n",
       "        vertical-align: middle;\n",
       "    }\n",
       "\n",
       "    .dataframe tbody tr th {\n",
       "        vertical-align: top;\n",
       "    }\n",
       "\n",
       "    .dataframe thead th {\n",
       "        text-align: right;\n",
       "    }\n",
       "</style>\n",
       "<table border=\"1\" class=\"dataframe\">\n",
       "  <thead>\n",
       "    <tr style=\"text-align: right;\">\n",
       "      <th></th>\n",
       "      <th>TransactionDate</th>\n",
       "      <th>Quantity</th>\n",
       "      <th>Cost</th>\n",
       "      <th>ToFC</th>\n",
       "      <th>FCName</th>\n",
       "      <th>FCDemand</th>\n",
       "      <th>FromWH</th>\n",
       "      <th>WHName</th>\n",
       "      <th>WHSupply</th>\n",
       "      <th>WHRegion</th>\n",
       "    </tr>\n",
       "  </thead>\n",
       "  <tbody>\n",
       "    <tr>\n",
       "      <th>721</th>\n",
       "      <td>2019-01-01 06:12:42</td>\n",
       "      <td>19</td>\n",
       "      <td>1.3</td>\n",
       "      <td>FC00007</td>\n",
       "      <td>那須工場</td>\n",
       "      <td>25</td>\n",
       "      <td>WH00006</td>\n",
       "      <td>山形倉庫</td>\n",
       "      <td>65</td>\n",
       "      <td>東北</td>\n",
       "    </tr>\n",
       "    <tr>\n",
       "      <th>722</th>\n",
       "      <td>2019-01-01 09:00:15</td>\n",
       "      <td>33</td>\n",
       "      <td>0.7</td>\n",
       "      <td>FC00006</td>\n",
       "      <td>山形工場</td>\n",
       "      <td>30</td>\n",
       "      <td>WH00006</td>\n",
       "      <td>山形倉庫</td>\n",
       "      <td>65</td>\n",
       "      <td>東北</td>\n",
       "    </tr>\n",
       "    <tr>\n",
       "      <th>723</th>\n",
       "      <td>2019-01-01 14:12:51</td>\n",
       "      <td>21</td>\n",
       "      <td>0.7</td>\n",
       "      <td>FC00006</td>\n",
       "      <td>山形工場</td>\n",
       "      <td>30</td>\n",
       "      <td>WH00006</td>\n",
       "      <td>山形倉庫</td>\n",
       "      <td>65</td>\n",
       "      <td>東北</td>\n",
       "    </tr>\n",
       "    <tr>\n",
       "      <th>724</th>\n",
       "      <td>2019-01-01 17:14:43</td>\n",
       "      <td>36</td>\n",
       "      <td>0.7</td>\n",
       "      <td>FC00006</td>\n",
       "      <td>山形工場</td>\n",
       "      <td>30</td>\n",
       "      <td>WH00006</td>\n",
       "      <td>山形倉庫</td>\n",
       "      <td>65</td>\n",
       "      <td>東北</td>\n",
       "    </tr>\n",
       "    <tr>\n",
       "      <th>725</th>\n",
       "      <td>2019-01-02 11:30:12</td>\n",
       "      <td>26</td>\n",
       "      <td>1.4</td>\n",
       "      <td>FC00005</td>\n",
       "      <td>仙台工場</td>\n",
       "      <td>21</td>\n",
       "      <td>WH00006</td>\n",
       "      <td>山形倉庫</td>\n",
       "      <td>65</td>\n",
       "      <td>東北</td>\n",
       "    </tr>\n",
       "    <tr>\n",
       "      <th>...</th>\n",
       "      <td>...</td>\n",
       "      <td>...</td>\n",
       "      <td>...</td>\n",
       "      <td>...</td>\n",
       "      <td>...</td>\n",
       "      <td>...</td>\n",
       "      <td>...</td>\n",
       "      <td>...</td>\n",
       "      <td>...</td>\n",
       "      <td>...</td>\n",
       "    </tr>\n",
       "    <tr>\n",
       "      <th>3321</th>\n",
       "      <td>2019-12-30 18:44:50</td>\n",
       "      <td>24</td>\n",
       "      <td>1.2</td>\n",
       "      <td>FC00007</td>\n",
       "      <td>那須工場</td>\n",
       "      <td>25</td>\n",
       "      <td>WH00005</td>\n",
       "      <td>仙台倉庫</td>\n",
       "      <td>72</td>\n",
       "      <td>東北</td>\n",
       "    </tr>\n",
       "    <tr>\n",
       "      <th>3322</th>\n",
       "      <td>2019-12-30 22:17:54</td>\n",
       "      <td>22</td>\n",
       "      <td>1.2</td>\n",
       "      <td>FC00007</td>\n",
       "      <td>那須工場</td>\n",
       "      <td>25</td>\n",
       "      <td>WH00005</td>\n",
       "      <td>仙台倉庫</td>\n",
       "      <td>72</td>\n",
       "      <td>東北</td>\n",
       "    </tr>\n",
       "    <tr>\n",
       "      <th>3323</th>\n",
       "      <td>2019-12-31 01:04:44</td>\n",
       "      <td>20</td>\n",
       "      <td>1.1</td>\n",
       "      <td>FC00006</td>\n",
       "      <td>山形工場</td>\n",
       "      <td>30</td>\n",
       "      <td>WH00005</td>\n",
       "      <td>仙台倉庫</td>\n",
       "      <td>72</td>\n",
       "      <td>東北</td>\n",
       "    </tr>\n",
       "    <tr>\n",
       "      <th>3324</th>\n",
       "      <td>2019-12-31 21:45:07</td>\n",
       "      <td>34</td>\n",
       "      <td>0.3</td>\n",
       "      <td>FC00005</td>\n",
       "      <td>仙台工場</td>\n",
       "      <td>21</td>\n",
       "      <td>WH00005</td>\n",
       "      <td>仙台倉庫</td>\n",
       "      <td>72</td>\n",
       "      <td>東北</td>\n",
       "    </tr>\n",
       "    <tr>\n",
       "      <th>3325</th>\n",
       "      <td>2019-12-31 23:19:37</td>\n",
       "      <td>16</td>\n",
       "      <td>0.3</td>\n",
       "      <td>FC00005</td>\n",
       "      <td>仙台工場</td>\n",
       "      <td>21</td>\n",
       "      <td>WH00005</td>\n",
       "      <td>仙台倉庫</td>\n",
       "      <td>72</td>\n",
       "      <td>東北</td>\n",
       "    </tr>\n",
       "  </tbody>\n",
       "</table>\n",
       "<p>2000 rows × 10 columns</p>\n",
       "</div>"
      ],
      "text/plain": [
       "          TransactionDate  Quantity  Cost     ToFC FCName  FCDemand   FromWH  \\\n",
       "721   2019-01-01 06:12:42        19   1.3  FC00007   那須工場        25  WH00006   \n",
       "722   2019-01-01 09:00:15        33   0.7  FC00006   山形工場        30  WH00006   \n",
       "723   2019-01-01 14:12:51        21   0.7  FC00006   山形工場        30  WH00006   \n",
       "724   2019-01-01 17:14:43        36   0.7  FC00006   山形工場        30  WH00006   \n",
       "725   2019-01-02 11:30:12        26   1.4  FC00005   仙台工場        21  WH00006   \n",
       "...                   ...       ...   ...      ...    ...       ...      ...   \n",
       "3321  2019-12-30 18:44:50        24   1.2  FC00007   那須工場        25  WH00005   \n",
       "3322  2019-12-30 22:17:54        22   1.2  FC00007   那須工場        25  WH00005   \n",
       "3323  2019-12-31 01:04:44        20   1.1  FC00006   山形工場        30  WH00005   \n",
       "3324  2019-12-31 21:45:07        34   0.3  FC00005   仙台工場        21  WH00005   \n",
       "3325  2019-12-31 23:19:37        16   0.3  FC00005   仙台工場        21  WH00005   \n",
       "\n",
       "     WHName  WHSupply WHRegion  \n",
       "721    山形倉庫        65       東北  \n",
       "722    山形倉庫        65       東北  \n",
       "723    山形倉庫        65       東北  \n",
       "724    山形倉庫        65       東北  \n",
       "725    山形倉庫        65       東北  \n",
       "...     ...       ...      ...  \n",
       "3321   仙台倉庫        72       東北  \n",
       "3322   仙台倉庫        72       東北  \n",
       "3323   仙台倉庫        72       東北  \n",
       "3324   仙台倉庫        72       東北  \n",
       "3325   仙台倉庫        72       東北  \n",
       "\n",
       "[2000 rows x 10 columns]"
      ]
     },
     "execution_count": 10,
     "metadata": {},
     "output_type": "execute_result"
    }
   ],
   "source": [
    "tohoku = joined_data.loc[joined_data['WHRegion']=='東北']\n",
    "tohoku"
   ]
  },
  {
   "cell_type": "markdown",
   "metadata": {
    "collapsed": false
   },
   "source": [
    "### ノック５２：現状の輸送量、コストを確認してみよう"
   ]
  },
  {
   "cell_type": "code",
   "execution_count": 12,
   "metadata": {
    "collapsed": false
   },
   "outputs": [
    {
     "name": "stdout",
     "output_type": "stream",
     "text": [
      "関東支社のコスト: 2189.3万円\n",
      "東北支社のコスト: 2062.0万円\n"
     ]
    }
   ],
   "source": [
    "print('関東支社のコスト: ' + str(kanto['Cost'].sum()) + '万円')\n",
    "print('東北支社のコスト: ' + str(tohoku['Cost'].sum()) + '万円')"
   ]
  },
  {
   "cell_type": "code",
   "execution_count": 13,
   "metadata": {
    "collapsed": false
   },
   "outputs": [
    {
     "name": "stdout",
     "output_type": "stream",
     "text": [
      "関東支社の総部品輸送個数: 49146個\n",
      "東北支社の総部品輸送個数: 50214個\n"
     ]
    }
   ],
   "source": [
    "print('関東支社の総部品輸送個数: ' + str(kanto['Quantity'].sum()) + '個')\n",
    "print('東北支社の総部品輸送個数: ' + str(tohoku['Quantity'].sum()) + '個')"
   ]
  },
  {
   "cell_type": "code",
   "execution_count": 17,
   "metadata": {
    "collapsed": false
   },
   "outputs": [
    {
     "name": "stdout",
     "output_type": "stream",
     "text": [
      "関東支社の単位コスト: 445.46860375208564円\n",
      "東北支社の単位コスト: 410.6424503126618円\n"
     ]
    }
   ],
   "source": [
    "print('関東支社の単位コスト: ' + str(kanto['Cost'].sum() / kanto['Quantity'].sum() * 10000) + '円')\n",
    "print('東北支社の単位コスト: ' + str(tohoku['Cost'].sum() / tohoku['Quantity'].sum() * 10000) + '円')"
   ]
  },
  {
   "cell_type": "code",
   "execution_count": 20,
   "metadata": {
    "collapsed": false
   },
   "outputs": [
    {
     "name": "stdout",
     "output_type": "stream",
     "text": [
      "関東支社の平均輸送コスト: 1.075万円\n",
      "東北支社の平均輸送コスト: 1.05万円\n"
     ]
    }
   ],
   "source": [
    "cost_chk = pd.merge(cost, factories, on='FCID', how='left')\n",
    "print('関東支社の平均輸送コスト: ' + str(cost_chk['Cost'].loc[cost_chk['FCRegion']=='関東'].mean())+'万円')\n",
    "print('東北支社の平均輸送コスト: ' + str(cost_chk['Cost'].loc[cost_chk['FCRegion']=='東北'].mean())+'万円')"
   ]
  },
  {
   "cell_type": "markdown",
   "metadata": {
    "collapsed": false
   },
   "source": [
    "### ノック５３：ネットワークを可視化してみよう"
   ]
  },
  {
   "cell_type": "code",
   "execution_count": 34,
   "metadata": {
    "collapsed": false
   },
   "outputs": [
    {
     "data": {
      "image/png": "[encoded data removed]",
      "text/plain": [
       "<Figure size 432x288 with 1 Axes>"
      ]
     },
     "metadata": {},
     "output_type": "display_data"
    }
   ],
   "source": [
    "import networkx as nx\n",
    "import matplotlib.pyplot as plt\n",
    "\n",
    "\n",
    "G=nx.Graph()\n",
    "G.add_node('nodeA')\n",
    "G.add_node('nodeB')\n",
    "G.add_node('nodeC')\n",
    "G.add_edge('nodeA', 'nodeB')\n",
    "G.add_edge('nodeA', 'nodeC')\n",
    "G.add_edge('nodeB', 'nodeC')\n",
    "\n",
    "pos={}\n",
    "pos['nodeA']=(0, 0)\n",
    "pos['nodeB']=(1, 1)\n",
    "pos['nodeC']=(0, 1)\n",
    "\n",
    "nx.draw(G, pos)\n",
    "plt.show()"
   ]
  },
  {
   "cell_type": "markdown",
   "metadata": {
    "collapsed": false
   },
   "source": [
    "### ノック５４：ネットワークにノードを追加してみよう"
   ]
  },
  {
   "cell_type": "code",
   "execution_count": 7,
   "metadata": {
    "collapsed": false,
    "scrolled": true
   },
   "outputs": [],
   "source": []
  },
  {
   "cell_type": "markdown",
   "metadata": {
    "collapsed": false
   },
   "source": [
    "### ノック５５：ルートの重みづけを実施しよう"
   ]
  },
  {
   "cell_type": "code",
   "execution_count": 7,
   "metadata": {
    "collapsed": false
   },
   "outputs": [],
   "source": []
  },
  {
   "cell_type": "markdown",
   "metadata": {
    "collapsed": false
   },
   "source": [
    "### ノック５６：輸送ルート情報を読み込んでみよう"
   ]
  },
  {
   "cell_type": "code",
   "execution_count": 7,
   "metadata": {
    "collapsed": false
   },
   "outputs": [],
   "source": []
  },
  {
   "cell_type": "markdown",
   "metadata": {
    "collapsed": false
   },
   "source": [
    "### ノック５７：輸送ルート情報からネットワークを可視化してみよう"
   ]
  },
  {
   "cell_type": "code",
   "execution_count": 7,
   "metadata": {
    "collapsed": false
   },
   "outputs": [],
   "source": []
  },
  {
   "cell_type": "markdown",
   "metadata": {
    "collapsed": false
   },
   "source": [
    "### ノック５８：輸送コスト関数を作成しよう"
   ]
  },
  {
   "cell_type": "code",
   "execution_count": 7,
   "metadata": {
    "collapsed": false
   },
   "outputs": [],
   "source": []
  },
  {
   "cell_type": "markdown",
   "metadata": {
    "collapsed": false
   },
   "source": [
    "### ノック５９：制約条件を作ってみよう"
   ]
  },
  {
   "cell_type": "code",
   "execution_count": 7,
   "metadata": {
    "collapsed": false
   },
   "outputs": [],
   "source": []
  },
  {
   "cell_type": "markdown",
   "metadata": {
    "collapsed": false
   },
   "source": [
    "### ノック６０：輸送ルートを変更して、輸送コスト関数の変化を確認しよう"
   ]
  },
  {
   "cell_type": "code",
   "execution_count": 7,
   "metadata": {
    "collapsed": false
   },
   "outputs": [],
   "source": []
  },
  {
   "cell_type": "code",
   "execution_count": 7,
   "metadata": {
    "collapsed": false
   },
   "outputs": [],
   "source": []
  }
 ],
 "metadata": {
  "kernelspec": {
   "argv": [
    "python",
    "-m",
    "ipykernel_launcher",
    "-f",
    "{connection_file}"
   ],
   "display_name": "Python 3",
   "env": null,
   "interrupt_mode": "signal",
   "language": "python",
   "metadata": null,
   "name": "python3"
  },
  "language_info": {
   "codemirror_mode": {
    "name": "ipython",
    "version": 3
   },
   "file_extension": ".py",
   "mimetype": "text/x-python",
   "name": "python",
   "nbconvert_exporter": "python",
   "pygments_lexer": "ipython3",
   "version": "3.6.4"
  },
  "name": "chap6.ipynb"
 },
 "nbformat": 4,
 "nbformat_minor": 2
}

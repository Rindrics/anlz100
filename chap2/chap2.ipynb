{
 "cells": [
  {
   "cell_type": "markdown",
   "metadata": {
    "collapsed": false
   },
   "source": [
    "# ２章　小売店のデータでデータ加工を行う１０本ノック\n",
    "\n",
    "本章では、ある小売店の売上履歴と顧客台帳データを用いて、データ分析の素地となる「データの加工」を習得することが目的です。\n",
    "実際の現場データは手入力のExcel等、決して綺麗なデータではない事が多いため、\n",
    "データの揺れや整合性の担保など、汚いデータを取り扱うデータ加工を主体に進めて行きます。"
   ]
  },
  {
   "cell_type": "markdown",
   "metadata": {
    "collapsed": false
   },
   "source": [
    "### ノック１１：データを読み込んでみよう"
   ]
  },
  {
   "cell_type": "code",
   "execution_count": 1,
   "metadata": {
    "collapsed": false,
    "scrolled": false
   },
   "outputs": [
    {
     "data": {
      "text/html": [
       "<div>\n",
       "<style scoped>\n",
       "    .dataframe tbody tr th:only-of-type {\n",
       "        vertical-align: middle;\n",
       "    }\n",
       "\n",
       "    .dataframe tbody tr th {\n",
       "        vertical-align: top;\n",
       "    }\n",
       "\n",
       "    .dataframe thead th {\n",
       "        text-align: right;\n",
       "    }\n",
       "</style>\n",
       "<table border=\"1\" class=\"dataframe\">\n",
       "  <thead>\n",
       "    <tr style=\"text-align: right;\">\n",
       "      <th></th>\n",
       "      <th>purchase_date</th>\n",
       "      <th>item_name</th>\n",
       "      <th>item_price</th>\n",
       "      <th>customer_name</th>\n",
       "    </tr>\n",
       "  </thead>\n",
       "  <tbody>\n",
       "    <tr>\n",
       "      <th>0</th>\n",
       "      <td>2019-06-13 18:02:34</td>\n",
       "      <td>商品A</td>\n",
       "      <td>100.0</td>\n",
       "      <td>深井菜々美</td>\n",
       "    </tr>\n",
       "    <tr>\n",
       "      <th>1</th>\n",
       "      <td>2019-07-13 13:05:29</td>\n",
       "      <td>商 品 S</td>\n",
       "      <td>NaN</td>\n",
       "      <td>浅田賢二</td>\n",
       "    </tr>\n",
       "    <tr>\n",
       "      <th>2</th>\n",
       "      <td>2019-05-11 19:42:07</td>\n",
       "      <td>商 品 a</td>\n",
       "      <td>NaN</td>\n",
       "      <td>南部慶二</td>\n",
       "    </tr>\n",
       "    <tr>\n",
       "      <th>3</th>\n",
       "      <td>2019-02-12 23:40:45</td>\n",
       "      <td>商品Z</td>\n",
       "      <td>2600.0</td>\n",
       "      <td>麻生莉緒</td>\n",
       "    </tr>\n",
       "    <tr>\n",
       "      <th>4</th>\n",
       "      <td>2019-04-22 03:09:35</td>\n",
       "      <td>商品a</td>\n",
       "      <td>NaN</td>\n",
       "      <td>平田鉄二</td>\n",
       "    </tr>\n",
       "  </tbody>\n",
       "</table>\n",
       "</div>"
      ],
      "text/plain": [
       "         purchase_date item_name  item_price customer_name\n",
       "0  2019-06-13 18:02:34       商品A       100.0         深井菜々美\n",
       "1  2019-07-13 13:05:29     商 品 S         NaN          浅田賢二\n",
       "2  2019-05-11 19:42:07     商 品 a         NaN          南部慶二\n",
       "3  2019-02-12 23:40:45       商品Z      2600.0          麻生莉緒\n",
       "4  2019-04-22 03:09:35       商品a         NaN          平田鉄二"
      ]
     },
     "execution_count": 1,
     "metadata": {},
     "output_type": "execute_result"
    }
   ],
   "source": [
    "import pandas as pd\n",
    "uriage_data = pd.read_csv('uriage.csv')\n",
    "uriage_data.head()"
   ]
  },
  {
   "cell_type": "code",
   "execution_count": 15,
   "metadata": {
    "collapsed": false,
    "scrolled": false
   },
   "outputs": [
    {
     "data": {
      "text/html": [
       "<div>\n",
       "<style scoped>\n",
       "    .dataframe tbody tr th:only-of-type {\n",
       "        vertical-align: middle;\n",
       "    }\n",
       "\n",
       "    .dataframe tbody tr th {\n",
       "        vertical-align: top;\n",
       "    }\n",
       "\n",
       "    .dataframe thead th {\n",
       "        text-align: right;\n",
       "    }\n",
       "</style>\n",
       "<table border=\"1\" class=\"dataframe\">\n",
       "  <thead>\n",
       "    <tr style=\"text-align: right;\">\n",
       "      <th></th>\n",
       "      <th>顧客名</th>\n",
       "      <th>かな</th>\n",
       "      <th>地域</th>\n",
       "      <th>メールアドレス</th>\n",
       "      <th>登録日</th>\n",
       "    </tr>\n",
       "  </thead>\n",
       "  <tbody>\n",
       "    <tr>\n",
       "      <th>0</th>\n",
       "      <td>須賀ひとみ</td>\n",
       "      <td>すが ひとみ</td>\n",
       "      <td>H市</td>\n",
       "      <td>suga_hitomi@example.com</td>\n",
       "      <td>2018/01/04</td>\n",
       "    </tr>\n",
       "    <tr>\n",
       "      <th>1</th>\n",
       "      <td>岡田　 敏也</td>\n",
       "      <td>おかだ としや</td>\n",
       "      <td>E市</td>\n",
       "      <td>okada_toshiya@example.com</td>\n",
       "      <td>42782</td>\n",
       "    </tr>\n",
       "    <tr>\n",
       "      <th>2</th>\n",
       "      <td>芳賀 希</td>\n",
       "      <td>はが のぞみ</td>\n",
       "      <td>A市</td>\n",
       "      <td>haga_nozomi@example.com</td>\n",
       "      <td>2018/01/07</td>\n",
       "    </tr>\n",
       "    <tr>\n",
       "      <th>3</th>\n",
       "      <td>荻野  愛</td>\n",
       "      <td>おぎの あい</td>\n",
       "      <td>F市</td>\n",
       "      <td>ogino_ai@example.com</td>\n",
       "      <td>42872</td>\n",
       "    </tr>\n",
       "    <tr>\n",
       "      <th>4</th>\n",
       "      <td>栗田 憲一</td>\n",
       "      <td>くりた けんいち</td>\n",
       "      <td>E市</td>\n",
       "      <td>kurita_kenichi@example.com</td>\n",
       "      <td>43127</td>\n",
       "    </tr>\n",
       "  </tbody>\n",
       "</table>\n",
       "</div>"
      ],
      "text/plain": [
       "      顧客名        かな  地域                     メールアドレス         登録日\n",
       "0   須賀ひとみ    すが ひとみ  H市     suga_hitomi@example.com  2018/01/04\n",
       "1  岡田　 敏也   おかだ としや  E市   okada_toshiya@example.com       42782\n",
       "2    芳賀 希    はが のぞみ  A市     haga_nozomi@example.com  2018/01/07\n",
       "3   荻野  愛    おぎの あい  F市        ogino_ai@example.com       42872\n",
       "4   栗田 憲一  くりた けんいち  E市  kurita_kenichi@example.com       43127"
      ]
     },
     "execution_count": 15,
     "metadata": {},
     "output_type": "execute_result"
    }
   ],
   "source": [
    "kokyaku_data = pd.read_excel('kokyaku_daicho.xlsx')\n",
    "kokyaku_data.head()"
   ]
  },
  {
   "cell_type": "markdown",
   "metadata": {
    "collapsed": false
   },
   "source": [
    "### ノック１２：データの揺れを見てみよう"
   ]
  },
  {
   "cell_type": "code",
   "execution_count": 16,
   "metadata": {
    "collapsed": false,
    "scrolled": false
   },
   "outputs": [
    {
     "data": {
      "text/plain": [
       "0      商品A\n",
       "1    商 品 S\n",
       "2    商 品 a\n",
       "3      商品Z\n",
       "4      商品a\n",
       "Name: item_name, dtype: object"
      ]
     },
     "execution_count": 16,
     "metadata": {},
     "output_type": "execute_result"
    }
   ],
   "source": [
    "uriage_data['item_name'].head()"
   ]
  },
  {
   "cell_type": "code",
   "execution_count": 17,
   "metadata": {
    "collapsed": false
   },
   "outputs": [
    {
     "data": {
      "text/plain": [
       "0     100.0\n",
       "1       NaN\n",
       "2       NaN\n",
       "3    2600.0\n",
       "4       NaN\n",
       "Name: item_price, dtype: float64"
      ]
     },
     "execution_count": 17,
     "metadata": {},
     "output_type": "execute_result"
    }
   ],
   "source": [
    "uriage_data['item_price'].head()"
   ]
  },
  {
   "cell_type": "markdown",
   "metadata": {
    "collapsed": false
   },
   "source": [
    "### ノック１３：データに揺れがあるまま集計しよう"
   ]
  },
  {
   "cell_type": "code",
   "execution_count": 21,
   "metadata": {
    "collapsed": false,
    "scrolled": false
   },
   "outputs": [
    {
     "data": {
      "text/html": [
       "<div>\n",
       "<style scoped>\n",
       "    .dataframe tbody tr th:only-of-type {\n",
       "        vertical-align: middle;\n",
       "    }\n",
       "\n",
       "    .dataframe tbody tr th {\n",
       "        vertical-align: top;\n",
       "    }\n",
       "\n",
       "    .dataframe thead th {\n",
       "        text-align: right;\n",
       "    }\n",
       "</style>\n",
       "<table border=\"1\" class=\"dataframe\">\n",
       "  <thead>\n",
       "    <tr style=\"text-align: right;\">\n",
       "      <th>item_name</th>\n",
       "      <th>商品W</th>\n",
       "      <th>商 品 n</th>\n",
       "      <th>商品E</th>\n",
       "      <th>商品M</th>\n",
       "      <th>商品P</th>\n",
       "      <th>商品S</th>\n",
       "      <th>商品W</th>\n",
       "      <th>商品X</th>\n",
       "      <th>商  品O</th>\n",
       "      <th>商  品Q</th>\n",
       "      <th>...</th>\n",
       "      <th>商品k</th>\n",
       "      <th>商品l</th>\n",
       "      <th>商品o</th>\n",
       "      <th>商品p</th>\n",
       "      <th>商品r</th>\n",
       "      <th>商品s</th>\n",
       "      <th>商品t</th>\n",
       "      <th>商品v</th>\n",
       "      <th>商品x</th>\n",
       "      <th>商品y</th>\n",
       "    </tr>\n",
       "    <tr>\n",
       "      <th>purchase_month</th>\n",
       "      <th></th>\n",
       "      <th></th>\n",
       "      <th></th>\n",
       "      <th></th>\n",
       "      <th></th>\n",
       "      <th></th>\n",
       "      <th></th>\n",
       "      <th></th>\n",
       "      <th></th>\n",
       "      <th></th>\n",
       "      <th></th>\n",
       "      <th></th>\n",
       "      <th></th>\n",
       "      <th></th>\n",
       "      <th></th>\n",
       "      <th></th>\n",
       "      <th></th>\n",
       "      <th></th>\n",
       "      <th></th>\n",
       "      <th></th>\n",
       "      <th></th>\n",
       "    </tr>\n",
       "  </thead>\n",
       "  <tbody>\n",
       "    <tr>\n",
       "      <th>201901</th>\n",
       "      <td>0</td>\n",
       "      <td>1</td>\n",
       "      <td>0</td>\n",
       "      <td>0</td>\n",
       "      <td>0</td>\n",
       "      <td>0</td>\n",
       "      <td>0</td>\n",
       "      <td>0</td>\n",
       "      <td>0</td>\n",
       "      <td>0</td>\n",
       "      <td>...</td>\n",
       "      <td>1</td>\n",
       "      <td>1</td>\n",
       "      <td>1</td>\n",
       "      <td>0</td>\n",
       "      <td>0</td>\n",
       "      <td>0</td>\n",
       "      <td>0</td>\n",
       "      <td>0</td>\n",
       "      <td>0</td>\n",
       "      <td>0</td>\n",
       "    </tr>\n",
       "    <tr>\n",
       "      <th>201902</th>\n",
       "      <td>0</td>\n",
       "      <td>0</td>\n",
       "      <td>0</td>\n",
       "      <td>0</td>\n",
       "      <td>0</td>\n",
       "      <td>0</td>\n",
       "      <td>0</td>\n",
       "      <td>1</td>\n",
       "      <td>0</td>\n",
       "      <td>0</td>\n",
       "      <td>...</td>\n",
       "      <td>0</td>\n",
       "      <td>0</td>\n",
       "      <td>0</td>\n",
       "      <td>0</td>\n",
       "      <td>0</td>\n",
       "      <td>1</td>\n",
       "      <td>1</td>\n",
       "      <td>1</td>\n",
       "      <td>0</td>\n",
       "      <td>0</td>\n",
       "    </tr>\n",
       "    <tr>\n",
       "      <th>201903</th>\n",
       "      <td>0</td>\n",
       "      <td>0</td>\n",
       "      <td>1</td>\n",
       "      <td>1</td>\n",
       "      <td>1</td>\n",
       "      <td>0</td>\n",
       "      <td>0</td>\n",
       "      <td>0</td>\n",
       "      <td>0</td>\n",
       "      <td>0</td>\n",
       "      <td>...</td>\n",
       "      <td>0</td>\n",
       "      <td>0</td>\n",
       "      <td>0</td>\n",
       "      <td>0</td>\n",
       "      <td>0</td>\n",
       "      <td>0</td>\n",
       "      <td>0</td>\n",
       "      <td>0</td>\n",
       "      <td>0</td>\n",
       "      <td>0</td>\n",
       "    </tr>\n",
       "    <tr>\n",
       "      <th>201904</th>\n",
       "      <td>1</td>\n",
       "      <td>0</td>\n",
       "      <td>0</td>\n",
       "      <td>0</td>\n",
       "      <td>0</td>\n",
       "      <td>0</td>\n",
       "      <td>0</td>\n",
       "      <td>0</td>\n",
       "      <td>0</td>\n",
       "      <td>1</td>\n",
       "      <td>...</td>\n",
       "      <td>0</td>\n",
       "      <td>0</td>\n",
       "      <td>0</td>\n",
       "      <td>0</td>\n",
       "      <td>0</td>\n",
       "      <td>1</td>\n",
       "      <td>0</td>\n",
       "      <td>0</td>\n",
       "      <td>0</td>\n",
       "      <td>0</td>\n",
       "    </tr>\n",
       "    <tr>\n",
       "      <th>201905</th>\n",
       "      <td>0</td>\n",
       "      <td>0</td>\n",
       "      <td>0</td>\n",
       "      <td>0</td>\n",
       "      <td>0</td>\n",
       "      <td>1</td>\n",
       "      <td>0</td>\n",
       "      <td>0</td>\n",
       "      <td>0</td>\n",
       "      <td>0</td>\n",
       "      <td>...</td>\n",
       "      <td>0</td>\n",
       "      <td>1</td>\n",
       "      <td>0</td>\n",
       "      <td>0</td>\n",
       "      <td>0</td>\n",
       "      <td>0</td>\n",
       "      <td>0</td>\n",
       "      <td>0</td>\n",
       "      <td>0</td>\n",
       "      <td>1</td>\n",
       "    </tr>\n",
       "    <tr>\n",
       "      <th>201906</th>\n",
       "      <td>0</td>\n",
       "      <td>0</td>\n",
       "      <td>0</td>\n",
       "      <td>0</td>\n",
       "      <td>0</td>\n",
       "      <td>0</td>\n",
       "      <td>1</td>\n",
       "      <td>0</td>\n",
       "      <td>0</td>\n",
       "      <td>0</td>\n",
       "      <td>...</td>\n",
       "      <td>0</td>\n",
       "      <td>0</td>\n",
       "      <td>0</td>\n",
       "      <td>1</td>\n",
       "      <td>0</td>\n",
       "      <td>0</td>\n",
       "      <td>0</td>\n",
       "      <td>0</td>\n",
       "      <td>1</td>\n",
       "      <td>0</td>\n",
       "    </tr>\n",
       "    <tr>\n",
       "      <th>201907</th>\n",
       "      <td>0</td>\n",
       "      <td>0</td>\n",
       "      <td>0</td>\n",
       "      <td>0</td>\n",
       "      <td>0</td>\n",
       "      <td>0</td>\n",
       "      <td>0</td>\n",
       "      <td>0</td>\n",
       "      <td>1</td>\n",
       "      <td>0</td>\n",
       "      <td>...</td>\n",
       "      <td>0</td>\n",
       "      <td>0</td>\n",
       "      <td>1</td>\n",
       "      <td>0</td>\n",
       "      <td>2</td>\n",
       "      <td>0</td>\n",
       "      <td>0</td>\n",
       "      <td>0</td>\n",
       "      <td>0</td>\n",
       "      <td>0</td>\n",
       "    </tr>\n",
       "  </tbody>\n",
       "</table>\n",
       "<p>7 rows × 99 columns</p>\n",
       "</div>"
      ],
      "text/plain": [
       "item_name         商品W   商 品 n   商品E   商品M   商品P   商品S   商品W   商品X  商  品O  \\\n",
       "purchase_month                                                             \n",
       "201901              0       1     0     0     0     0     0     0      0   \n",
       "201902              0       0     0     0     0     0     0     1      0   \n",
       "201903              0       0     1     1     1     0     0     0      0   \n",
       "201904              1       0     0     0     0     0     0     0      0   \n",
       "201905              0       0     0     0     0     1     0     0      0   \n",
       "201906              0       0     0     0     0     0     1     0      0   \n",
       "201907              0       0     0     0     0     0     0     0      1   \n",
       "\n",
       "item_name       商  品Q  ...  商品k  商品l  商品o  商品p  商品r  商品s  商品t  商品v  商品x  商品y  \n",
       "purchase_month         ...                                                    \n",
       "201901              0  ...    1    1    1    0    0    0    0    0    0    0  \n",
       "201902              0  ...    0    0    0    0    0    1    1    1    0    0  \n",
       "201903              0  ...    0    0    0    0    0    0    0    0    0    0  \n",
       "201904              1  ...    0    0    0    0    0    1    0    0    0    0  \n",
       "201905              0  ...    0    1    0    0    0    0    0    0    0    1  \n",
       "201906              0  ...    0    0    0    1    0    0    0    0    1    0  \n",
       "201907              0  ...    0    0    1    0    2    0    0    0    0    0  \n",
       "\n",
       "[7 rows x 99 columns]"
      ]
     },
     "execution_count": 21,
     "metadata": {},
     "output_type": "execute_result"
    }
   ],
   "source": [
    "uriage_data['purchase_date'] = pd.to_datetime(uriage_data['purchase_date'])\n",
    "uriage_data['purchase_month'] = uriage_data['purchase_date'].dt.strftime(\"%Y%m\")\n",
    "res = uriage_data.pivot_table(index='purchase_month', columns='item_name', aggfunc='size', fill_value=0)\n",
    "res"
   ]
  },
  {
   "cell_type": "code",
   "execution_count": 24,
   "metadata": {
    "collapsed": false
   },
   "outputs": [
    {
     "data": {
      "text/html": [
       "<div>\n",
       "<style scoped>\n",
       "    .dataframe tbody tr th:only-of-type {\n",
       "        vertical-align: middle;\n",
       "    }\n",
       "\n",
       "    .dataframe tbody tr th {\n",
       "        vertical-align: top;\n",
       "    }\n",
       "\n",
       "    .dataframe thead th {\n",
       "        text-align: right;\n",
       "    }\n",
       "</style>\n",
       "<table border=\"1\" class=\"dataframe\">\n",
       "  <thead>\n",
       "    <tr style=\"text-align: right;\">\n",
       "      <th>item_name</th>\n",
       "      <th>商品W</th>\n",
       "      <th>商 品 n</th>\n",
       "      <th>商品E</th>\n",
       "      <th>商品M</th>\n",
       "      <th>商品P</th>\n",
       "      <th>商品S</th>\n",
       "      <th>商品W</th>\n",
       "      <th>商品X</th>\n",
       "      <th>商  品O</th>\n",
       "      <th>商  品Q</th>\n",
       "      <th>...</th>\n",
       "      <th>商品k</th>\n",
       "      <th>商品l</th>\n",
       "      <th>商品o</th>\n",
       "      <th>商品p</th>\n",
       "      <th>商品r</th>\n",
       "      <th>商品s</th>\n",
       "      <th>商品t</th>\n",
       "      <th>商品v</th>\n",
       "      <th>商品x</th>\n",
       "      <th>商品y</th>\n",
       "    </tr>\n",
       "    <tr>\n",
       "      <th>purchase_month</th>\n",
       "      <th></th>\n",
       "      <th></th>\n",
       "      <th></th>\n",
       "      <th></th>\n",
       "      <th></th>\n",
       "      <th></th>\n",
       "      <th></th>\n",
       "      <th></th>\n",
       "      <th></th>\n",
       "      <th></th>\n",
       "      <th></th>\n",
       "      <th></th>\n",
       "      <th></th>\n",
       "      <th></th>\n",
       "      <th></th>\n",
       "      <th></th>\n",
       "      <th></th>\n",
       "      <th></th>\n",
       "      <th></th>\n",
       "      <th></th>\n",
       "      <th></th>\n",
       "    </tr>\n",
       "  </thead>\n",
       "  <tbody>\n",
       "    <tr>\n",
       "      <th>201901</th>\n",
       "      <td>0</td>\n",
       "      <td>1400</td>\n",
       "      <td>0</td>\n",
       "      <td>0</td>\n",
       "      <td>0</td>\n",
       "      <td>0</td>\n",
       "      <td>0</td>\n",
       "      <td>0</td>\n",
       "      <td>0</td>\n",
       "      <td>0</td>\n",
       "      <td>...</td>\n",
       "      <td>1100</td>\n",
       "      <td>1200</td>\n",
       "      <td>1500</td>\n",
       "      <td>0</td>\n",
       "      <td>0</td>\n",
       "      <td>0</td>\n",
       "      <td>0</td>\n",
       "      <td>0</td>\n",
       "      <td>0</td>\n",
       "      <td>0</td>\n",
       "    </tr>\n",
       "    <tr>\n",
       "      <th>201902</th>\n",
       "      <td>0</td>\n",
       "      <td>0</td>\n",
       "      <td>0</td>\n",
       "      <td>0</td>\n",
       "      <td>0</td>\n",
       "      <td>0</td>\n",
       "      <td>0</td>\n",
       "      <td>2400</td>\n",
       "      <td>0</td>\n",
       "      <td>0</td>\n",
       "      <td>...</td>\n",
       "      <td>0</td>\n",
       "      <td>0</td>\n",
       "      <td>0</td>\n",
       "      <td>0</td>\n",
       "      <td>0</td>\n",
       "      <td>1900</td>\n",
       "      <td>2000</td>\n",
       "      <td>2200</td>\n",
       "      <td>0</td>\n",
       "      <td>0</td>\n",
       "    </tr>\n",
       "    <tr>\n",
       "      <th>201903</th>\n",
       "      <td>0</td>\n",
       "      <td>0</td>\n",
       "      <td>500</td>\n",
       "      <td>1300</td>\n",
       "      <td>1600</td>\n",
       "      <td>0</td>\n",
       "      <td>0</td>\n",
       "      <td>0</td>\n",
       "      <td>0</td>\n",
       "      <td>0</td>\n",
       "      <td>...</td>\n",
       "      <td>0</td>\n",
       "      <td>0</td>\n",
       "      <td>0</td>\n",
       "      <td>0</td>\n",
       "      <td>0</td>\n",
       "      <td>0</td>\n",
       "      <td>0</td>\n",
       "      <td>0</td>\n",
       "      <td>0</td>\n",
       "      <td>0</td>\n",
       "    </tr>\n",
       "    <tr>\n",
       "      <th>201904</th>\n",
       "      <td>2300</td>\n",
       "      <td>0</td>\n",
       "      <td>0</td>\n",
       "      <td>0</td>\n",
       "      <td>0</td>\n",
       "      <td>0</td>\n",
       "      <td>0</td>\n",
       "      <td>0</td>\n",
       "      <td>0</td>\n",
       "      <td>1700</td>\n",
       "      <td>...</td>\n",
       "      <td>0</td>\n",
       "      <td>0</td>\n",
       "      <td>0</td>\n",
       "      <td>0</td>\n",
       "      <td>0</td>\n",
       "      <td>1900</td>\n",
       "      <td>0</td>\n",
       "      <td>0</td>\n",
       "      <td>0</td>\n",
       "      <td>0</td>\n",
       "    </tr>\n",
       "    <tr>\n",
       "      <th>201905</th>\n",
       "      <td>0</td>\n",
       "      <td>0</td>\n",
       "      <td>0</td>\n",
       "      <td>0</td>\n",
       "      <td>0</td>\n",
       "      <td>1900</td>\n",
       "      <td>0</td>\n",
       "      <td>0</td>\n",
       "      <td>0</td>\n",
       "      <td>0</td>\n",
       "      <td>...</td>\n",
       "      <td>0</td>\n",
       "      <td>1200</td>\n",
       "      <td>0</td>\n",
       "      <td>0</td>\n",
       "      <td>0</td>\n",
       "      <td>0</td>\n",
       "      <td>0</td>\n",
       "      <td>0</td>\n",
       "      <td>0</td>\n",
       "      <td>2500</td>\n",
       "    </tr>\n",
       "    <tr>\n",
       "      <th>201906</th>\n",
       "      <td>0</td>\n",
       "      <td>0</td>\n",
       "      <td>0</td>\n",
       "      <td>0</td>\n",
       "      <td>0</td>\n",
       "      <td>0</td>\n",
       "      <td>2300</td>\n",
       "      <td>0</td>\n",
       "      <td>0</td>\n",
       "      <td>0</td>\n",
       "      <td>...</td>\n",
       "      <td>0</td>\n",
       "      <td>0</td>\n",
       "      <td>0</td>\n",
       "      <td>1600</td>\n",
       "      <td>0</td>\n",
       "      <td>0</td>\n",
       "      <td>0</td>\n",
       "      <td>0</td>\n",
       "      <td>2400</td>\n",
       "      <td>0</td>\n",
       "    </tr>\n",
       "    <tr>\n",
       "      <th>201907</th>\n",
       "      <td>0</td>\n",
       "      <td>0</td>\n",
       "      <td>0</td>\n",
       "      <td>0</td>\n",
       "      <td>0</td>\n",
       "      <td>0</td>\n",
       "      <td>0</td>\n",
       "      <td>0</td>\n",
       "      <td>0</td>\n",
       "      <td>0</td>\n",
       "      <td>...</td>\n",
       "      <td>0</td>\n",
       "      <td>0</td>\n",
       "      <td>1500</td>\n",
       "      <td>0</td>\n",
       "      <td>1800</td>\n",
       "      <td>0</td>\n",
       "      <td>0</td>\n",
       "      <td>0</td>\n",
       "      <td>0</td>\n",
       "      <td>0</td>\n",
       "    </tr>\n",
       "  </tbody>\n",
       "</table>\n",
       "<p>7 rows × 99 columns</p>\n",
       "</div>"
      ],
      "text/plain": [
       "item_name         商品W   商 品 n   商品E   商品M   商品P   商品S   商品W   商品X  商  品O  \\\n",
       "purchase_month                                                             \n",
       "201901              0    1400     0     0     0     0     0     0      0   \n",
       "201902              0       0     0     0     0     0     0  2400      0   \n",
       "201903              0       0   500  1300  1600     0     0     0      0   \n",
       "201904           2300       0     0     0     0     0     0     0      0   \n",
       "201905              0       0     0     0     0  1900     0     0      0   \n",
       "201906              0       0     0     0     0     0  2300     0      0   \n",
       "201907              0       0     0     0     0     0     0     0      0   \n",
       "\n",
       "item_name       商  品Q  ...   商品k   商品l   商品o   商品p   商品r   商品s   商品t   商品v  \\\n",
       "purchase_month         ...                                                   \n",
       "201901              0  ...  1100  1200  1500     0     0     0     0     0   \n",
       "201902              0  ...     0     0     0     0     0  1900  2000  2200   \n",
       "201903              0  ...     0     0     0     0     0     0     0     0   \n",
       "201904           1700  ...     0     0     0     0     0  1900     0     0   \n",
       "201905              0  ...     0  1200     0     0     0     0     0     0   \n",
       "201906              0  ...     0     0     0  1600     0     0     0     0   \n",
       "201907              0  ...     0     0  1500     0  1800     0     0     0   \n",
       "\n",
       "item_name        商品x   商品y  \n",
       "purchase_month              \n",
       "201901             0     0  \n",
       "201902             0     0  \n",
       "201903             0     0  \n",
       "201904             0     0  \n",
       "201905             0  2500  \n",
       "201906          2400     0  \n",
       "201907             0     0  \n",
       "\n",
       "[7 rows x 99 columns]"
      ]
     },
     "execution_count": 24,
     "metadata": {},
     "output_type": "execute_result"
    }
   ],
   "source": [
    "res = uriage_data.pivot_table(index='purchase_month', columns='item_name', values='item_price', aggfunc='sum', fill_value=0)\n",
    "res"
   ]
  },
  {
   "cell_type": "markdown",
   "metadata": {
    "collapsed": false
   },
   "source": [
    "### ノック１４：商品名の揺れを補正しよう"
   ]
  },
  {
   "cell_type": "code",
   "execution_count": 27,
   "metadata": {
    "collapsed": false
   },
   "outputs": [
    {
     "name": "stdout",
     "output_type": "stream",
     "text": [
      "99\n"
     ]
    }
   ],
   "source": [
    "print(len(pd.unique(uriage_data.item_name)))"
   ]
  },
  {
   "cell_type": "code",
   "execution_count": 36,
   "metadata": {
    "collapsed": false,
    "scrolled": false
   },
   "outputs": [
    {
     "data": {
      "text/html": [
       "<div>\n",
       "<style scoped>\n",
       "    .dataframe tbody tr th:only-of-type {\n",
       "        vertical-align: middle;\n",
       "    }\n",
       "\n",
       "    .dataframe tbody tr th {\n",
       "        vertical-align: top;\n",
       "    }\n",
       "\n",
       "    .dataframe thead th {\n",
       "        text-align: right;\n",
       "    }\n",
       "</style>\n",
       "<table border=\"1\" class=\"dataframe\">\n",
       "  <thead>\n",
       "    <tr style=\"text-align: right;\">\n",
       "      <th></th>\n",
       "      <th>purchase_date</th>\n",
       "      <th>item_name</th>\n",
       "      <th>item_price</th>\n",
       "      <th>customer_name</th>\n",
       "      <th>purchase_month</th>\n",
       "    </tr>\n",
       "  </thead>\n",
       "  <tbody>\n",
       "    <tr>\n",
       "      <th>0</th>\n",
       "      <td>2019-06-13 18:02:34</td>\n",
       "      <td>商品A</td>\n",
       "      <td>100.0</td>\n",
       "      <td>深井菜々美</td>\n",
       "      <td>201906</td>\n",
       "    </tr>\n",
       "    <tr>\n",
       "      <th>1748</th>\n",
       "      <td>2019-05-19 20:22:22</td>\n",
       "      <td>商品A</td>\n",
       "      <td>100.0</td>\n",
       "      <td>松川綾女</td>\n",
       "      <td>201905</td>\n",
       "    </tr>\n",
       "    <tr>\n",
       "      <th>223</th>\n",
       "      <td>2019-06-25 08:13:20</td>\n",
       "      <td>商品A</td>\n",
       "      <td>100.0</td>\n",
       "      <td>板橋隆</td>\n",
       "      <td>201906</td>\n",
       "    </tr>\n",
       "    <tr>\n",
       "      <th>1742</th>\n",
       "      <td>2019-06-13 16:03:17</td>\n",
       "      <td>商品A</td>\n",
       "      <td>100.0</td>\n",
       "      <td>小平陽子</td>\n",
       "      <td>201906</td>\n",
       "    </tr>\n",
       "    <tr>\n",
       "      <th>1738</th>\n",
       "      <td>2019-02-10 00:28:43</td>\n",
       "      <td>商品A</td>\n",
       "      <td>100.0</td>\n",
       "      <td>松田浩正</td>\n",
       "      <td>201902</td>\n",
       "    </tr>\n",
       "    <tr>\n",
       "      <th>...</th>\n",
       "      <td>...</td>\n",
       "      <td>...</td>\n",
       "      <td>...</td>\n",
       "      <td>...</td>\n",
       "      <td>...</td>\n",
       "    </tr>\n",
       "    <tr>\n",
       "      <th>2880</th>\n",
       "      <td>2019-04-22 00:36:52</td>\n",
       "      <td>商品Y</td>\n",
       "      <td>NaN</td>\n",
       "      <td>田辺光洋</td>\n",
       "      <td>201904</td>\n",
       "    </tr>\n",
       "    <tr>\n",
       "      <th>2881</th>\n",
       "      <td>2019-04-30 14:21:09</td>\n",
       "      <td>商品Y</td>\n",
       "      <td>NaN</td>\n",
       "      <td>高原充則</td>\n",
       "      <td>201904</td>\n",
       "    </tr>\n",
       "    <tr>\n",
       "      <th>1525</th>\n",
       "      <td>2019-01-24 10:27:23</td>\n",
       "      <td>商品Y</td>\n",
       "      <td>2500.0</td>\n",
       "      <td>五十嵐春樹</td>\n",
       "      <td>201901</td>\n",
       "    </tr>\n",
       "    <tr>\n",
       "      <th>1361</th>\n",
       "      <td>2019-05-28 13:45:32</td>\n",
       "      <td>商品Y</td>\n",
       "      <td>2500.0</td>\n",
       "      <td>大崎ヒカル</td>\n",
       "      <td>201905</td>\n",
       "    </tr>\n",
       "    <tr>\n",
       "      <th>3</th>\n",
       "      <td>2019-02-12 23:40:45</td>\n",
       "      <td>商品Z</td>\n",
       "      <td>2600.0</td>\n",
       "      <td>麻生莉緒</td>\n",
       "      <td>201902</td>\n",
       "    </tr>\n",
       "  </tbody>\n",
       "</table>\n",
       "<p>2999 rows × 5 columns</p>\n",
       "</div>"
      ],
      "text/plain": [
       "           purchase_date item_name  item_price customer_name purchase_month\n",
       "0    2019-06-13 18:02:34       商品A       100.0         深井菜々美         201906\n",
       "1748 2019-05-19 20:22:22       商品A       100.0          松川綾女         201905\n",
       "223  2019-06-25 08:13:20       商品A       100.0           板橋隆         201906\n",
       "1742 2019-06-13 16:03:17       商品A       100.0          小平陽子         201906\n",
       "1738 2019-02-10 00:28:43       商品A       100.0          松田浩正         201902\n",
       "...                  ...       ...         ...           ...            ...\n",
       "2880 2019-04-22 00:36:52       商品Y         NaN          田辺光洋         201904\n",
       "2881 2019-04-30 14:21:09       商品Y         NaN          高原充則         201904\n",
       "1525 2019-01-24 10:27:23       商品Y      2500.0         五十嵐春樹         201901\n",
       "1361 2019-05-28 13:45:32       商品Y      2500.0         大崎ヒカル         201905\n",
       "3    2019-02-12 23:40:45       商品Z      2600.0          麻生莉緒         201902\n",
       "\n",
       "[2999 rows x 5 columns]"
      ]
     },
     "execution_count": 36,
     "metadata": {},
     "output_type": "execute_result"
    }
   ],
   "source": [
    "uriage_data['item_name'] = uriage_data['item_name'].str.upper()\n",
    "uriage_data['item_name'] = uriage_data['item_name'].str.replace('　', '')\n",
    "uriage_data['item_name'] = uriage_data['item_name'].str.replace(' ', '')\n",
    "uriage_data.sort_values(by=['item_name'], ascending=True)"
   ]
  },
  {
   "cell_type": "code",
   "execution_count": 35,
   "metadata": {
    "collapsed": false
   },
   "outputs": [
    {
     "name": "stdout",
     "output_type": "stream",
     "text": [
      "['商品A' '商品S' '商品Z' '商品V' '商品O' '商品U' '商品L' '商品C' '商品I' '商品R' '商品X' '商品G'\n",
      " '商品P' '商品Q' '商品Y' '商品N' '商品W' '商品E' '商品K' '商品B' '商品F' '商品D' '商品M' '商品H'\n",
      " '商品T' '商品J']\n",
      "26\n"
     ]
    }
   ],
   "source": [
    "print(pd.unique(uriage_data.item_name))\n",
    "print(len(pd.unique(uriage_data.item_name)))"
   ]
  },
  {
   "cell_type": "markdown",
   "metadata": {
    "collapsed": false
   },
   "source": [
    "### ノック１５：金額欠損値の補完をしよう"
   ]
  },
  {
   "cell_type": "code",
   "execution_count": 38,
   "metadata": {
    "collapsed": false,
    "scrolled": true
   },
   "outputs": [
    {
     "data": {
      "text/plain": [
       "purchase_date     False\n",
       "item_name         False\n",
       "item_price         True\n",
       "customer_name     False\n",
       "purchase_month    False\n",
       "dtype: bool"
      ]
     },
     "execution_count": 38,
     "metadata": {},
     "output_type": "execute_result"
    }
   ],
   "source": [
    "uriage_data.isnull().any(axis=0)"
   ]
  },
  {
   "cell_type": "code",
   "execution_count": 61,
   "metadata": {
    "collapsed": false,
    "scrolled": false
   },
   "outputs": [
    {
     "name": "stdout",
     "output_type": "stream",
     "text": [
      "[]\n"
     ]
    },
    {
     "data": {
      "text/html": [
       "<div>\n",
       "<style scoped>\n",
       "    .dataframe tbody tr th:only-of-type {\n",
       "        vertical-align: middle;\n",
       "    }\n",
       "\n",
       "    .dataframe tbody tr th {\n",
       "        vertical-align: top;\n",
       "    }\n",
       "\n",
       "    .dataframe thead th {\n",
       "        text-align: right;\n",
       "    }\n",
       "</style>\n",
       "<table border=\"1\" class=\"dataframe\">\n",
       "  <thead>\n",
       "    <tr style=\"text-align: right;\">\n",
       "      <th></th>\n",
       "      <th>purchase_date</th>\n",
       "      <th>item_name</th>\n",
       "      <th>item_price</th>\n",
       "      <th>customer_name</th>\n",
       "      <th>purchase_month</th>\n",
       "    </tr>\n",
       "  </thead>\n",
       "  <tbody>\n",
       "    <tr>\n",
       "      <th>0</th>\n",
       "      <td>2019-06-13 18:02:34</td>\n",
       "      <td>商品A</td>\n",
       "      <td>100.0</td>\n",
       "      <td>深井菜々美</td>\n",
       "      <td>201906</td>\n",
       "    </tr>\n",
       "    <tr>\n",
       "      <th>1</th>\n",
       "      <td>2019-07-13 13:05:29</td>\n",
       "      <td>商品S</td>\n",
       "      <td>1900.0</td>\n",
       "      <td>浅田賢二</td>\n",
       "      <td>201907</td>\n",
       "    </tr>\n",
       "    <tr>\n",
       "      <th>2</th>\n",
       "      <td>2019-05-11 19:42:07</td>\n",
       "      <td>商品A</td>\n",
       "      <td>100.0</td>\n",
       "      <td>南部慶二</td>\n",
       "      <td>201905</td>\n",
       "    </tr>\n",
       "    <tr>\n",
       "      <th>3</th>\n",
       "      <td>2019-02-12 23:40:45</td>\n",
       "      <td>商品Z</td>\n",
       "      <td>2600.0</td>\n",
       "      <td>麻生莉緒</td>\n",
       "      <td>201902</td>\n",
       "    </tr>\n",
       "    <tr>\n",
       "      <th>4</th>\n",
       "      <td>2019-04-22 03:09:35</td>\n",
       "      <td>商品A</td>\n",
       "      <td>100.0</td>\n",
       "      <td>平田鉄二</td>\n",
       "      <td>201904</td>\n",
       "    </tr>\n",
       "  </tbody>\n",
       "</table>\n",
       "</div>"
      ],
      "text/plain": [
       "        purchase_date item_name  item_price customer_name purchase_month\n",
       "0 2019-06-13 18:02:34       商品A       100.0         深井菜々美         201906\n",
       "1 2019-07-13 13:05:29       商品S      1900.0          浅田賢二         201907\n",
       "2 2019-05-11 19:42:07       商品A       100.0          南部慶二         201905\n",
       "3 2019-02-12 23:40:45       商品Z      2600.0          麻生莉緒         201902\n",
       "4 2019-04-22 03:09:35       商品A       100.0          平田鉄二         201904"
      ]
     },
     "execution_count": 61,
     "metadata": {},
     "output_type": "execute_result"
    }
   ],
   "source": [
    "flg_is_null = uriage_data['item_price'].isnull()\n",
    "print(list(uriage_data.loc[flg_is_null, 'item_name'].unique()))\n",
    "for trg in list(uriage_data.loc[flg_is_null, 'item_name'].unique()):\n",
    "    price = uriage_data.loc[(~flg_is_null) & (uriage_data['item_name'] == trg), 'item_price'].max()\n",
    "    uriage_data.loc[flg_is_null & (uriage_data['item_name'] == trg), 'item_price'] = price\n",
    "uriage_data.head()"
   ]
  },
  {
   "cell_type": "code",
   "execution_count": 64,
   "metadata": {
    "collapsed": false,
    "scrolled": true
   },
   "outputs": [
    {
     "data": {
      "text/plain": [
       "purchase_date     False\n",
       "item_name         False\n",
       "item_price        False\n",
       "customer_name     False\n",
       "purchase_month    False\n",
       "dtype: bool"
      ]
     },
     "execution_count": 64,
     "metadata": {},
     "output_type": "execute_result"
    }
   ],
   "source": [
    "uriage_data.isnull().any(axis=0)"
   ]
  },
  {
   "cell_type": "code",
   "execution_count": 72,
   "metadata": {
    "collapsed": false,
    "scrolled": false
   },
   "outputs": [
    {
     "name": "stdout",
     "output_type": "stream",
     "text": [
      "商品Aの最大額 == 最少額: True\n",
      "商品Bの最大額 == 最少額: True\n",
      "商品Cの最大額 == 最少額: True\n",
      "商品Dの最大額 == 最少額: True\n",
      "商品Eの最大額 == 最少額: True\n",
      "商品Fの最大額 == 最少額: True\n",
      "商品Gの最大額 == 最少額: True\n",
      "商品Hの最大額 == 最少額: True\n",
      "商品Iの最大額 == 最少額: True\n",
      "商品Jの最大額 == 最少額: True\n",
      "商品Kの最大額 == 最少額: True\n",
      "商品Lの最大額 == 最少額: True\n",
      "商品Mの最大額 == 最少額: True\n",
      "商品Nの最大額 == 最少額: True\n",
      "商品Oの最大額 == 最少額: True\n",
      "商品Pの最大額 == 最少額: True\n",
      "商品Qの最大額 == 最少額: True\n",
      "商品Rの最大額 == 最少額: True\n",
      "商品Sの最大額 == 最少額: True\n",
      "商品Tの最大額 == 最少額: True\n",
      "商品Uの最大額 == 最少額: True\n",
      "商品Vの最大額 == 最少額: True\n",
      "商品Wの最大額 == 最少額: True\n",
      "商品Xの最大額 == 最少額: True\n",
      "商品Yの最大額 == 最少額: True\n",
      "商品Zの最大額 == 最少額: True\n"
     ]
    }
   ],
   "source": [
    "for trg in list(uriage_data['item_name'].sort_values().unique()):\n",
    "    print(trg + 'の最大額 == 最少額: ' + str((uriage_data.loc[uriage_data['item_name'] == trg]['item_price'].max()) == (uriage_data.loc[uriage_data['item_name'] == trg]['item_price'].min(skipna=False))))\n"
   ]
  },
  {
   "cell_type": "markdown",
   "metadata": {
    "collapsed": false
   },
   "source": [
    "### ノック１６：顧客名の揺れを補正しよう"
   ]
  },
  {
   "cell_type": "code",
   "execution_count": 74,
   "metadata": {
    "collapsed": false
   },
   "outputs": [
    {
     "data": {
      "text/plain": [
       "0     須賀ひとみ\n",
       "1    岡田　 敏也\n",
       "2      芳賀 希\n",
       "3     荻野  愛\n",
       "4     栗田 憲一\n",
       "Name: 顧客名, dtype: object"
      ]
     },
     "execution_count": 74,
     "metadata": {},
     "output_type": "execute_result"
    }
   ],
   "source": [
    "kokyaku_data['顧客名'].head()"
   ]
  },
  {
   "cell_type": "code",
   "execution_count": 75,
   "metadata": {
    "collapsed": false
   },
   "outputs": [
    {
     "data": {
      "text/plain": [
       "0    深井菜々美\n",
       "1     浅田賢二\n",
       "2     南部慶二\n",
       "3     麻生莉緒\n",
       "4     平田鉄二\n",
       "Name: customer_name, dtype: object"
      ]
     },
     "execution_count": 75,
     "metadata": {},
     "output_type": "execute_result"
    }
   ],
   "source": [
    "uriage_data['customer_name'].head()"
   ]
  },
  {
   "cell_type": "code",
   "execution_count": 84,
   "metadata": {
    "collapsed": false
   },
   "outputs": [
    {
     "data": {
      "text/plain": [
       "array(['須賀ひとみ', '岡田敏也', '芳賀希', '荻野愛', '栗田憲一', '梅沢麻緒', '相原ひとり', '新村丈史',\n",
       "       '石川まさみ', '小栗正義', '大倉晃司', '那須蒼甫', '清水裕次郎', '榊原しぼり', '高沢美咲', '川島友以乃',\n",
       "       '唐沢景子', '稲田将也', '秋葉あき', '西脇礼子', '内村まさみ', '進藤瞬', '小口豊', '笹原しぼり',\n",
       "       '岩佐孝太郎', '河村由樹', '菅原誠治', '榎本薫', '高梨結衣', '鶴岡薫', '藤木一恵', '森岡季衣',\n",
       "       '田畑正敏', '宇野秀樹', '高原充則', '梅村秀樹', '浅田賢二', '石渡小雁', '吉岡サダヲ', '井口寛治',\n",
       "       '奥光洋', '佐藤慶二', '東光博', '高田さんま', '合田光', '深田信輔', '島英嗣', '梅津淳子',\n",
       "       '日比野徹', '熊倉綾', '松田浩正', '楠高史', '岡慶太', '市田寿明', '山西花', '青山鉄洋', '松川綾女',\n",
       "       '大滝麗奈', '赤木愛梨', '楠哲平', '堀内聡', '八木雅彦', '林勇', '日野夏希', '麻生莉緒', '根岸仁晶',\n",
       "       '赤木だん吉', '亀井一徳', '横田遥', '野本仁晶', '西原未華子', '五十嵐春樹', '堀江佑', '久保田倫子',\n",
       "       '金森なつみ', '城戸芳正', '望月真悠子', '井本マサカズ', '米沢仁晶', '本橋直人', '古川信吾', '岩沢那奈',\n",
       "       '西島知世', '戸塚美幸', '深井照生', '新谷智花', '有馬徹平', '本多フミヤ', '浜田未華子', '牧田玲那',\n",
       "       '島孝太郎', '石田花', '星野美嘉', '黒谷長利', '深沢ひろ子', '矢部夏空', '立石茜', '手塚雅之',\n",
       "       '松谷愛子', '中田美智子', '片瀬長利', '石崎幸子', '明石家明', '小川美菜', '田辺光洋', '神原美嘉',\n",
       "       '岩城徹平', '相川良介', '植村遥', '井川真悠子', '松元翔太', 'さだ千佳子', '島本研二', '影山輝信',\n",
       "       '浅見広司', '石野仁', '小平陽子', '福本美幸', '中仁晶', '田辺きみまろ', '熊倉明日', '鈴木一哉',\n",
       "       '杉田将也', '徳重優', '松岡ノブヒコ', '藤広之', '谷本愛梨', '松沢育二', '清水佑', '土屋朝陽',\n",
       "       '鳥居広司', '福島友也', '堀サンタマリア', '井川里穂', '田崎菜々美', '平田鉄二', '井上桃子', '尾形小雁',\n",
       "       '沖遥', '矢部美幸', '島袋友以乃', '深井菜々美', '南部慶二', '若杉徹', '矢部惇', '熊井憲史',\n",
       "       '岡村希', '桑原桃子', '原口俊二', '尾上勝久', '杉下悟志', '志村サダヲ', '山口法子', '大城ケンイチ',\n",
       "       '新村美月', '河内さとみ', '内田聡', '吉村愛梨', '根岸莉央', '丸山光臣', '石田佑', '根本博明',\n",
       "       '今茜', '村山知世', '大山咲', '島崎礼子', '松居満', '田上美佐子', '篠山雅功', '外山広司',\n",
       "       '岩井莉緒', '大崎ヒカル', '矢沢恵梨香', '石田郁恵', '荻野愛菜', '香椎優一', '黄川田博之', '井村俊二',\n",
       "       '植木沙知絵', '小松隼士', '松村聡', '平賀一哉', '手塚進', '磯野希', '白井俊二', '笹川照生',\n",
       "       '芦田博之', '大地礼子', '小町瞬', '水野メイサ', '板橋隆', '綾瀬俊介', '和泉直人', '堀北雅彦',\n",
       "       '唐沢涼', '川上りえ', '小松季衣', '白鳥りえ', '大西隆之介', '福井美希'], dtype=object)"
      ]
     },
     "execution_count": 84,
     "metadata": {},
     "output_type": "execute_result"
    }
   ],
   "source": [
    "kokyaku_data['顧客名'] = kokyaku_data['顧客名'].str.replace('　', \"\")\n",
    "kokyaku_data['顧客名'] = kokyaku_data['顧客名'].str.replace(' ', \"\")\n",
    "pd.unique(kokyaku_data['顧客名'])"
   ]
  },
  {
   "cell_type": "markdown",
   "metadata": {
    "collapsed": false
   },
   "source": [
    "### ノック１７：日付の揺れを補正しよう"
   ]
  },
  {
   "cell_type": "code",
   "execution_count": 92,
   "metadata": {
    "collapsed": false
   },
   "outputs": [
    {
     "name": "stdout",
     "output_type": "stream",
     "text": [
      "     顧客名        かな  地域                     メールアドレス         登録日\n",
      "0  須賀ひとみ    すが ひとみ  H市     suga_hitomi@example.com  2018/01/04\n",
      "1   岡田敏也   おかだ としや  E市   okada_toshiya@example.com       42782\n",
      "2    芳賀希    はが のぞみ  A市     haga_nozomi@example.com  2018/01/07\n",
      "3    荻野愛    おぎの あい  F市        ogino_ai@example.com       42872\n",
      "4   栗田憲一  くりた けんいち  E市  kurita_kenichi@example.com       43127\n"
     ]
    }
   ],
   "source": [
    "print(kokyaku_data.head())"
   ]
  },
  {
   "cell_type": "code",
   "execution_count": 93,
   "metadata": {
    "collapsed": false,
    "scrolled": true
   },
   "outputs": [
    {
     "data": {
      "text/plain": [
       "22"
      ]
     },
     "execution_count": 93,
     "metadata": {},
     "output_type": "execute_result"
    }
   ],
   "source": [
    "flg_is_serial = kokyaku_data['登録日'].astype(str).str.isdigit()\n",
    "flg_is_serial.sum()"
   ]
  },
  {
   "cell_type": "code",
   "execution_count": 97,
   "metadata": {
    "collapsed": false,
    "scrolled": false
   },
   "outputs": [
    {
     "name": "stdout",
     "output_type": "stream",
     "text": [
      "1      42782\n",
      "3      42872\n",
      "4      43127\n",
      "21     42920\n",
      "27     42901\n",
      "47     42741\n",
      "49     42929\n",
      "53     42833\n",
      "76     43188\n",
      "80     43110\n",
      "99     42885\n",
      "114    43254\n",
      "118    43129\n",
      "122    43206\n",
      "139    42880\n",
      "143    42818\n",
      "155    42754\n",
      "172    43181\n",
      "179    42743\n",
      "183    42940\n",
      "186    43294\n",
      "192    43259\n",
      "Name: 登録日, dtype: object\n"
     ]
    },
    {
     "data": {
      "text/plain": [
       "1     2017-02-18\n",
       "3     2017-05-19\n",
       "4     2018-01-29\n",
       "21    2017-07-06\n",
       "27    2017-06-17\n",
       "47    2017-01-08\n",
       "49    2017-07-15\n",
       "53    2017-04-10\n",
       "76    2018-03-31\n",
       "80    2018-01-12\n",
       "99    2017-06-01\n",
       "114   2018-06-05\n",
       "118   2018-01-31\n",
       "122   2018-04-18\n",
       "139   2017-05-27\n",
       "143   2017-03-26\n",
       "155   2017-01-21\n",
       "172   2018-03-24\n",
       "179   2017-01-10\n",
       "183   2017-07-26\n",
       "186   2018-07-15\n",
       "192   2018-06-10\n",
       "Name: 登録日, dtype: datetime64[ns]"
      ]
     },
     "execution_count": 97,
     "metadata": {},
     "output_type": "execute_result"
    }
   ],
   "source": [
    "print(kokyaku_data.loc[flg_is_serial, '登録日'])\n",
    "fromSerial = pd.to_timedelta(kokyaku_data.loc[flg_is_serial, '登録日'].astype('float'), unit='D') + pd.to_datetime('1900/01/01')\n",
    "fromSerial"
   ]
  },
  {
   "cell_type": "code",
   "execution_count": 100,
   "metadata": {
    "collapsed": false,
    "scrolled": true
   },
   "outputs": [
    {
     "data": {
      "text/plain": [
       "0     2018-01-04\n",
       "2     2018-01-07\n",
       "5     2017-06-20\n",
       "6     2018-06-11\n",
       "7     2017-05-19\n",
       "         ...    \n",
       "195   2017-06-20\n",
       "196   2018-06-20\n",
       "197   2017-04-29\n",
       "198   2019-04-19\n",
       "199   2019-04-23\n",
       "Name: 登録日, Length: 178, dtype: datetime64[ns]"
      ]
     },
     "execution_count": 100,
     "metadata": {},
     "output_type": "execute_result"
    }
   ],
   "source": [
    "fromString = pd.to_datetime(kokyaku_data.loc[~flg_is_serial, '登録日'])\n",
    "fromString"
   ]
  },
  {
   "cell_type": "code",
   "execution_count": 103,
   "metadata": {
    "collapsed": false,
    "scrolled": true
   },
   "outputs": [
    {
     "data": {
      "text/plain": [
       "0     2018-01-04\n",
       "1     2017-02-18\n",
       "2     2018-01-07\n",
       "3     2017-05-19\n",
       "4     2018-01-29\n",
       "         ...    \n",
       "195   2017-06-20\n",
       "196   2018-06-20\n",
       "197   2017-04-29\n",
       "198   2019-04-19\n",
       "199   2019-04-23\n",
       "Name: 登録日, Length: 200, dtype: datetime64[ns]"
      ]
     },
     "execution_count": 103,
     "metadata": {},
     "output_type": "execute_result"
    }
   ],
   "source": [
    "kokyaku_data['登録日'] = pd.concat([fromSerial, fromString])\n",
    "kokyaku_data['登録日']"
   ]
  },
  {
   "cell_type": "code",
   "execution_count": 113,
   "metadata": {
    "collapsed": false,
    "scrolled": true
   },
   "outputs": [
    {
     "name": "stdout",
     "output_type": "stream",
     "text": [
      "登録年月\n",
      "201701    15\n",
      "201702    11\n",
      "201703    14\n",
      "201704    15\n",
      "201705    13\n",
      "201706    14\n",
      "201707    17\n",
      "201801    13\n",
      "201802    15\n",
      "201803    17\n",
      "201804     5\n",
      "201805    19\n",
      "201806    13\n",
      "201807    17\n",
      "201904     2\n",
      "Name: 顧客名, dtype: int64\n",
      "200\n"
     ]
    }
   ],
   "source": [
    "kokyaku_data['登録年月'] = kokyaku_data['登録日'].dt.strftime('%Y%m')\n",
    "rslt = kokyaku_data.groupby('登録年月').count()['顧客名']\n",
    "print(rslt)\n",
    "print(len(kokyaku_data))"
   ]
  },
  {
   "cell_type": "code",
   "execution_count": 117,
   "metadata": {
    "collapsed": false
   },
   "outputs": [
    {
     "data": {
      "text/plain": [
       "0"
      ]
     },
     "execution_count": 117,
     "metadata": {},
     "output_type": "execute_result"
    }
   ],
   "source": [
    "flg_is_serial = kokyaku_data['登録日'].astype('str').str.isdigit()\n",
    "flg_is_serial.sum()"
   ]
  },
  {
   "cell_type": "markdown",
   "metadata": {
    "collapsed": false
   },
   "source": [
    "### ノック１８：顧客名をキーに２つのデータを結合(ジョイン)しよう"
   ]
  },
  {
   "cell_type": "code",
   "execution_count": 121,
   "metadata": {
    "collapsed": false
   },
   "outputs": [
    {
     "data": {
      "text/html": [
       "<div>\n",
       "<style scoped>\n",
       "    .dataframe tbody tr th:only-of-type {\n",
       "        vertical-align: middle;\n",
       "    }\n",
       "\n",
       "    .dataframe tbody tr th {\n",
       "        vertical-align: top;\n",
       "    }\n",
       "\n",
       "    .dataframe thead th {\n",
       "        text-align: right;\n",
       "    }\n",
       "</style>\n",
       "<table border=\"1\" class=\"dataframe\">\n",
       "  <thead>\n",
       "    <tr style=\"text-align: right;\">\n",
       "      <th></th>\n",
       "      <th>purchase_date</th>\n",
       "      <th>item_name</th>\n",
       "      <th>item_price</th>\n",
       "      <th>purchase_month</th>\n",
       "      <th>顧客名</th>\n",
       "      <th>かな</th>\n",
       "      <th>地域</th>\n",
       "      <th>メールアドレス</th>\n",
       "      <th>登録日</th>\n",
       "      <th>登録年月</th>\n",
       "    </tr>\n",
       "  </thead>\n",
       "  <tbody>\n",
       "    <tr>\n",
       "      <th>0</th>\n",
       "      <td>2019-06-13 18:02:34</td>\n",
       "      <td>商品A</td>\n",
       "      <td>100.0</td>\n",
       "      <td>201906</td>\n",
       "      <td>深井菜々美</td>\n",
       "      <td>ふかい ななみ</td>\n",
       "      <td>C市</td>\n",
       "      <td>fukai_nanami@example.com</td>\n",
       "      <td>2017-01-26</td>\n",
       "      <td>201701</td>\n",
       "    </tr>\n",
       "    <tr>\n",
       "      <th>1</th>\n",
       "      <td>2019-07-13 13:05:29</td>\n",
       "      <td>商品S</td>\n",
       "      <td>1900.0</td>\n",
       "      <td>201907</td>\n",
       "      <td>浅田賢二</td>\n",
       "      <td>あさだ けんじ</td>\n",
       "      <td>C市</td>\n",
       "      <td>asada_kenji@example.com</td>\n",
       "      <td>2018-04-07</td>\n",
       "      <td>201804</td>\n",
       "    </tr>\n",
       "    <tr>\n",
       "      <th>2</th>\n",
       "      <td>2019-05-11 19:42:07</td>\n",
       "      <td>商品A</td>\n",
       "      <td>100.0</td>\n",
       "      <td>201905</td>\n",
       "      <td>南部慶二</td>\n",
       "      <td>なんぶ けいじ</td>\n",
       "      <td>A市</td>\n",
       "      <td>nannbu_keiji@example.com</td>\n",
       "      <td>2018-06-19</td>\n",
       "      <td>201806</td>\n",
       "    </tr>\n",
       "    <tr>\n",
       "      <th>3</th>\n",
       "      <td>2019-02-12 23:40:45</td>\n",
       "      <td>商品Z</td>\n",
       "      <td>2600.0</td>\n",
       "      <td>201902</td>\n",
       "      <td>麻生莉緒</td>\n",
       "      <td>あそう りお</td>\n",
       "      <td>D市</td>\n",
       "      <td>asou_rio@example.com</td>\n",
       "      <td>2018-07-22</td>\n",
       "      <td>201807</td>\n",
       "    </tr>\n",
       "    <tr>\n",
       "      <th>4</th>\n",
       "      <td>2019-04-22 03:09:35</td>\n",
       "      <td>商品A</td>\n",
       "      <td>100.0</td>\n",
       "      <td>201904</td>\n",
       "      <td>平田鉄二</td>\n",
       "      <td>ひらた てつじ</td>\n",
       "      <td>D市</td>\n",
       "      <td>hirata_tetsuji@example.com</td>\n",
       "      <td>2017-06-07</td>\n",
       "      <td>201706</td>\n",
       "    </tr>\n",
       "  </tbody>\n",
       "</table>\n",
       "</div>"
      ],
      "text/plain": [
       "        purchase_date item_name  item_price purchase_month    顧客名       かな  \\\n",
       "0 2019-06-13 18:02:34       商品A       100.0         201906  深井菜々美  ふかい ななみ   \n",
       "1 2019-07-13 13:05:29       商品S      1900.0         201907   浅田賢二  あさだ けんじ   \n",
       "2 2019-05-11 19:42:07       商品A       100.0         201905   南部慶二  なんぶ けいじ   \n",
       "3 2019-02-12 23:40:45       商品Z      2600.0         201902   麻生莉緒   あそう りお   \n",
       "4 2019-04-22 03:09:35       商品A       100.0         201904   平田鉄二  ひらた てつじ   \n",
       "\n",
       "   地域                     メールアドレス        登録日    登録年月  \n",
       "0  C市    fukai_nanami@example.com 2017-01-26  201701  \n",
       "1  C市     asada_kenji@example.com 2018-04-07  201804  \n",
       "2  A市    nannbu_keiji@example.com 2018-06-19  201806  \n",
       "3  D市        asou_rio@example.com 2018-07-22  201807  \n",
       "4  D市  hirata_tetsuji@example.com 2017-06-07  201706  "
      ]
     },
     "execution_count": 121,
     "metadata": {},
     "output_type": "execute_result"
    }
   ],
   "source": [
    "joined_data = pd.merge(uriage_data, kokyaku_data, left_on='customer_name', right_on='顧客名', how='left')\n",
    "joined_data = joined_data.drop('customer_name', axis=1)\n",
    "joined_data.head()"
   ]
  },
  {
   "cell_type": "markdown",
   "metadata": {
    "collapsed": false
   },
   "source": [
    "### ノック１９：クレンジングしたデータをダンプしよう"
   ]
  },
  {
   "cell_type": "code",
   "execution_count": null,
   "metadata": {
    "collapsed": false
   },
   "outputs": [],
   "source": []
  },
  {
   "cell_type": "code",
   "execution_count": null,
   "metadata": {
    "collapsed": false
   },
   "outputs": [],
   "source": []
  },
  {
   "cell_type": "markdown",
   "metadata": {
    "collapsed": false
   },
   "source": [
    "### ノック２０：データを集計しよう"
   ]
  },
  {
   "cell_type": "code",
   "execution_count": null,
   "metadata": {
    "collapsed": false,
    "scrolled": true
   },
   "outputs": [],
   "source": []
  },
  {
   "cell_type": "code",
   "execution_count": null,
   "metadata": {
    "collapsed": false,
    "scrolled": true
   },
   "outputs": [],
   "source": []
  },
  {
   "cell_type": "code",
   "execution_count": null,
   "metadata": {
    "collapsed": false
   },
   "outputs": [],
   "source": []
  },
  {
   "cell_type": "code",
   "execution_count": null,
   "metadata": {
    "collapsed": false,
    "scrolled": false
   },
   "outputs": [],
   "source": []
  },
  {
   "cell_type": "code",
   "execution_count": null,
   "metadata": {
    "collapsed": false,
    "scrolled": false
   },
   "outputs": [],
   "source": []
  },
  {
   "cell_type": "code",
   "execution_count": null,
   "metadata": {
    "collapsed": false
   },
   "outputs": [],
   "source": []
  }
 ],
 "metadata": {
  "kernelspec": {
   "argv": [
    "python",
    "-m",
    "ipykernel_launcher",
    "-f",
    "{connection_file}"
   ],
   "display_name": "Python 3",
   "env": null,
   "interrupt_mode": "signal",
   "language": "python",
   "metadata": null,
   "name": "python3"
  },
  "language_info": {
   "codemirror_mode": {
    "name": "ipython",
    "version": 3
   },
   "file_extension": ".py",
   "mimetype": "text/x-python",
   "name": "python",
   "nbconvert_exporter": "python",
   "pygments_lexer": "ipython3",
   "version": "3.6.4"
  },
  "name": "chap2.ipynb"
 },
 "nbformat": 4,
 "nbformat_minor": 2
}

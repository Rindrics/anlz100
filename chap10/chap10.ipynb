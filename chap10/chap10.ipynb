{
 "cells": [
  {
   "cell_type": "markdown",
   "metadata": {
    "collapsed": false
   },
   "source": [
    "# 10章 アンケート分析を行うための言語処理１０本ノック\n",
    "\n",
    "ここでは、まちづくりのアンケートを使って分析していきます。  \n",
    "主に言語処理を取り扱っていきます。\n",
    "言語処理特有の処理や、データの持たせ方を学びましょう。"
   ]
  },
  {
   "cell_type": "markdown",
   "metadata": {
    "collapsed": false
   },
   "source": [
    "### ノック91：データを読み込んで把握しよう"
   ]
  },
  {
   "cell_type": "code",
   "execution_count": 198,
   "metadata": {
    "collapsed": false
   },
   "outputs": [],
   "source": [
    "import pandas as pd\n",
    "survey = pd.read_csv(\"survey.csv\")"
   ]
  },
  {
   "cell_type": "code",
   "execution_count": 199,
   "metadata": {
    "collapsed": false
   },
   "outputs": [
    {
     "name": "stdout",
     "output_type": "stream",
     "text": [
      "86\n"
     ]
    },
    {
     "data": {
      "text/html": [
       "<div>\n",
       "<style scoped>\n",
       "    .dataframe tbody tr th:only-of-type {\n",
       "        vertical-align: middle;\n",
       "    }\n",
       "\n",
       "    .dataframe tbody tr th {\n",
       "        vertical-align: top;\n",
       "    }\n",
       "\n",
       "    .dataframe thead th {\n",
       "        text-align: right;\n",
       "    }\n",
       "</style>\n",
       "<table border=\"1\" class=\"dataframe\">\n",
       "  <thead>\n",
       "    <tr style=\"text-align: right;\">\n",
       "      <th></th>\n",
       "      <th>datetime</th>\n",
       "      <th>comment</th>\n",
       "      <th>satisfaction</th>\n",
       "    </tr>\n",
       "  </thead>\n",
       "  <tbody>\n",
       "    <tr>\n",
       "      <th>0</th>\n",
       "      <td>2019/3/11</td>\n",
       "      <td>駅前に若者が集まっている(AA駅)</td>\n",
       "      <td>1</td>\n",
       "    </tr>\n",
       "    <tr>\n",
       "      <th>1</th>\n",
       "      <td>2019/2/25</td>\n",
       "      <td>スポーツできる場所があるのが良い</td>\n",
       "      <td>5</td>\n",
       "    </tr>\n",
       "    <tr>\n",
       "      <th>2</th>\n",
       "      <td>2019/2/18</td>\n",
       "      <td>子育て支援が嬉しい</td>\n",
       "      <td>5</td>\n",
       "    </tr>\n",
       "    <tr>\n",
       "      <th>3</th>\n",
       "      <td>2019/4/9</td>\n",
       "      <td>保育園に入れる（待機児童なし）</td>\n",
       "      <td>4</td>\n",
       "    </tr>\n",
       "    <tr>\n",
       "      <th>4</th>\n",
       "      <td>2019/1/6</td>\n",
       "      <td>駅前商店街が寂しい</td>\n",
       "      <td>2</td>\n",
       "    </tr>\n",
       "  </tbody>\n",
       "</table>\n",
       "</div>"
      ],
      "text/plain": [
       "    datetime            comment  satisfaction\n",
       "0  2019/3/11  駅前に若者が集まっている(AA駅)             1\n",
       "1  2019/2/25   スポーツできる場所があるのが良い             5\n",
       "2  2019/2/18          子育て支援が嬉しい             5\n",
       "3   2019/4/9    保育園に入れる（待機児童なし）             4\n",
       "4   2019/1/6          駅前商店街が寂しい             2"
      ]
     },
     "execution_count": 199,
     "metadata": {},
     "output_type": "execute_result"
    }
   ],
   "source": [
    "print(len(survey))\n",
    "survey.head()"
   ]
  },
  {
   "cell_type": "code",
   "execution_count": 200,
   "metadata": {
    "collapsed": false
   },
   "outputs": [
    {
     "data": {
      "text/plain": [
       "datetime        0\n",
       "comment         2\n",
       "satisfaction    0\n",
       "dtype: int64"
      ]
     },
     "execution_count": 200,
     "metadata": {},
     "output_type": "execute_result"
    }
   ],
   "source": [
    "survey.isna().sum()"
   ]
  },
  {
   "cell_type": "code",
   "execution_count": 201,
   "metadata": {
    "collapsed": false
   },
   "outputs": [
    {
     "data": {
      "text/plain": [
       "datetime        0\n",
       "comment         0\n",
       "satisfaction    0\n",
       "dtype: int64"
      ]
     },
     "execution_count": 201,
     "metadata": {},
     "output_type": "execute_result"
    }
   ],
   "source": [
    "survey = survey.dropna()\n",
    "survey.isna().sum()"
   ]
  },
  {
   "cell_type": "markdown",
   "metadata": {
    "collapsed": false
   },
   "source": [
    "### ノック92：不要な文字を除外してみよう"
   ]
  },
  {
   "cell_type": "code",
   "execution_count": 202,
   "metadata": {
    "collapsed": false
   },
   "outputs": [
    {
     "data": {
      "text/plain": [
       "0     駅前に若者が集まっている(駅)\n",
       "1    スポーツできる場所があるのが良い\n",
       "2           子育て支援が嬉しい\n",
       "3     保育園に入れる（待機児童なし）\n",
       "4           駅前商店街が寂しい\n",
       "Name: comment, dtype: object"
      ]
     },
     "execution_count": 202,
     "metadata": {},
     "output_type": "execute_result"
    }
   ],
   "source": [
    "survey[\"comment\"] = survey[\"comment\"].str.replace(\"AA\", \"\")\n",
    "survey[\"comment\"].head()"
   ]
  },
  {
   "cell_type": "code",
   "execution_count": 203,
   "metadata": {
    "collapsed": false
   },
   "outputs": [
    {
     "data": {
      "text/html": [
       "<div>\n",
       "<style scoped>\n",
       "    .dataframe tbody tr th:only-of-type {\n",
       "        vertical-align: middle;\n",
       "    }\n",
       "\n",
       "    .dataframe tbody tr th {\n",
       "        vertical-align: top;\n",
       "    }\n",
       "\n",
       "    .dataframe thead th {\n",
       "        text-align: right;\n",
       "    }\n",
       "</style>\n",
       "<table border=\"1\" class=\"dataframe\">\n",
       "  <thead>\n",
       "    <tr style=\"text-align: right;\">\n",
       "      <th></th>\n",
       "      <th>datetime</th>\n",
       "      <th>comment</th>\n",
       "      <th>satisfaction</th>\n",
       "    </tr>\n",
       "  </thead>\n",
       "  <tbody>\n",
       "    <tr>\n",
       "      <th>0</th>\n",
       "      <td>2019/3/11</td>\n",
       "      <td>駅前に若者が集まっている</td>\n",
       "      <td>1</td>\n",
       "    </tr>\n",
       "    <tr>\n",
       "      <th>1</th>\n",
       "      <td>2019/2/25</td>\n",
       "      <td>スポーツできる場所があるのが良い</td>\n",
       "      <td>5</td>\n",
       "    </tr>\n",
       "    <tr>\n",
       "      <th>2</th>\n",
       "      <td>2019/2/18</td>\n",
       "      <td>子育て支援が嬉しい</td>\n",
       "      <td>5</td>\n",
       "    </tr>\n",
       "    <tr>\n",
       "      <th>3</th>\n",
       "      <td>2019/4/9</td>\n",
       "      <td>保育園に入れる（待機児童なし）</td>\n",
       "      <td>4</td>\n",
       "    </tr>\n",
       "    <tr>\n",
       "      <th>4</th>\n",
       "      <td>2019/1/6</td>\n",
       "      <td>駅前商店街が寂しい</td>\n",
       "      <td>2</td>\n",
       "    </tr>\n",
       "  </tbody>\n",
       "</table>\n",
       "</div>"
      ],
      "text/plain": [
       "    datetime           comment  satisfaction\n",
       "0  2019/3/11      駅前に若者が集まっている             1\n",
       "1  2019/2/25  スポーツできる場所があるのが良い             5\n",
       "2  2019/2/18         子育て支援が嬉しい             5\n",
       "3   2019/4/9   保育園に入れる（待機児童なし）             4\n",
       "4   2019/1/6         駅前商店街が寂しい             2"
      ]
     },
     "execution_count": 203,
     "metadata": {},
     "output_type": "execute_result"
    }
   ],
   "source": [
    "survey[\"comment\"] = survey[\"comment\"].str.replace(\"\\(.+?\\)\", \"\", regex=True)\n",
    "survey.head()"
   ]
  },
  {
   "cell_type": "code",
   "execution_count": 204,
   "metadata": {
    "collapsed": false
   },
   "outputs": [
    {
     "data": {
      "text/html": [
       "<div>\n",
       "<style scoped>\n",
       "    .dataframe tbody tr th:only-of-type {\n",
       "        vertical-align: middle;\n",
       "    }\n",
       "\n",
       "    .dataframe tbody tr th {\n",
       "        vertical-align: top;\n",
       "    }\n",
       "\n",
       "    .dataframe thead th {\n",
       "        text-align: right;\n",
       "    }\n",
       "</style>\n",
       "<table border=\"1\" class=\"dataframe\">\n",
       "  <thead>\n",
       "    <tr style=\"text-align: right;\">\n",
       "      <th></th>\n",
       "      <th>datetime</th>\n",
       "      <th>comment</th>\n",
       "      <th>satisfaction</th>\n",
       "    </tr>\n",
       "  </thead>\n",
       "  <tbody>\n",
       "    <tr>\n",
       "      <th>0</th>\n",
       "      <td>2019/3/11</td>\n",
       "      <td>駅前に若者が集まっている</td>\n",
       "      <td>1</td>\n",
       "    </tr>\n",
       "    <tr>\n",
       "      <th>1</th>\n",
       "      <td>2019/2/25</td>\n",
       "      <td>スポーツできる場所があるのが良い</td>\n",
       "      <td>5</td>\n",
       "    </tr>\n",
       "    <tr>\n",
       "      <th>2</th>\n",
       "      <td>2019/2/18</td>\n",
       "      <td>子育て支援が嬉しい</td>\n",
       "      <td>5</td>\n",
       "    </tr>\n",
       "    <tr>\n",
       "      <th>3</th>\n",
       "      <td>2019/4/9</td>\n",
       "      <td>保育園に入れる</td>\n",
       "      <td>4</td>\n",
       "    </tr>\n",
       "    <tr>\n",
       "      <th>4</th>\n",
       "      <td>2019/1/6</td>\n",
       "      <td>駅前商店街が寂しい</td>\n",
       "      <td>2</td>\n",
       "    </tr>\n",
       "  </tbody>\n",
       "</table>\n",
       "</div>"
      ],
      "text/plain": [
       "    datetime           comment  satisfaction\n",
       "0  2019/3/11      駅前に若者が集まっている             1\n",
       "1  2019/2/25  スポーツできる場所があるのが良い             5\n",
       "2  2019/2/18         子育て支援が嬉しい             5\n",
       "3   2019/4/9           保育園に入れる             4\n",
       "4   2019/1/6         駅前商店街が寂しい             2"
      ]
     },
     "execution_count": 204,
     "metadata": {},
     "output_type": "execute_result"
    }
   ],
   "source": [
    "survey[\"comment\"] = survey[\"comment\"].str.replace(\"\\（.+?\\）\", \"\", regex=True)\n",
    "survey.head()"
   ]
  },
  {
   "cell_type": "markdown",
   "metadata": {
    "collapsed": false
   },
   "source": [
    "### ノック93：文字数をカウントしてヒストグラムを表示してみよう"
   ]
  },
  {
   "cell_type": "code",
   "execution_count": 205,
   "metadata": {
    "collapsed": false
   },
   "outputs": [
    {
     "data": {
      "text/html": [
       "<div>\n",
       "<style scoped>\n",
       "    .dataframe tbody tr th:only-of-type {\n",
       "        vertical-align: middle;\n",
       "    }\n",
       "\n",
       "    .dataframe tbody tr th {\n",
       "        vertical-align: top;\n",
       "    }\n",
       "\n",
       "    .dataframe thead th {\n",
       "        text-align: right;\n",
       "    }\n",
       "</style>\n",
       "<table border=\"1\" class=\"dataframe\">\n",
       "  <thead>\n",
       "    <tr style=\"text-align: right;\">\n",
       "      <th></th>\n",
       "      <th>datetime</th>\n",
       "      <th>comment</th>\n",
       "      <th>satisfaction</th>\n",
       "      <th>length</th>\n",
       "    </tr>\n",
       "  </thead>\n",
       "  <tbody>\n",
       "    <tr>\n",
       "      <th>0</th>\n",
       "      <td>2019/3/11</td>\n",
       "      <td>駅前に若者が集まっている</td>\n",
       "      <td>1</td>\n",
       "      <td>12</td>\n",
       "    </tr>\n",
       "    <tr>\n",
       "      <th>1</th>\n",
       "      <td>2019/2/25</td>\n",
       "      <td>スポーツできる場所があるのが良い</td>\n",
       "      <td>5</td>\n",
       "      <td>16</td>\n",
       "    </tr>\n",
       "    <tr>\n",
       "      <th>2</th>\n",
       "      <td>2019/2/18</td>\n",
       "      <td>子育て支援が嬉しい</td>\n",
       "      <td>5</td>\n",
       "      <td>9</td>\n",
       "    </tr>\n",
       "    <tr>\n",
       "      <th>3</th>\n",
       "      <td>2019/4/9</td>\n",
       "      <td>保育園に入れる</td>\n",
       "      <td>4</td>\n",
       "      <td>7</td>\n",
       "    </tr>\n",
       "    <tr>\n",
       "      <th>4</th>\n",
       "      <td>2019/1/6</td>\n",
       "      <td>駅前商店街が寂しい</td>\n",
       "      <td>2</td>\n",
       "      <td>9</td>\n",
       "    </tr>\n",
       "  </tbody>\n",
       "</table>\n",
       "</div>"
      ],
      "text/plain": [
       "    datetime           comment  satisfaction  length\n",
       "0  2019/3/11      駅前に若者が集まっている             1      12\n",
       "1  2019/2/25  スポーツできる場所があるのが良い             5      16\n",
       "2  2019/2/18         子育て支援が嬉しい             5       9\n",
       "3   2019/4/9           保育園に入れる             4       7\n",
       "4   2019/1/6         駅前商店街が寂しい             2       9"
      ]
     },
     "execution_count": 205,
     "metadata": {},
     "output_type": "execute_result"
    }
   ],
   "source": [
    "survey[\"length\"] = survey[\"comment\"].str.len()\n",
    "survey.head()"
   ]
  },
  {
   "cell_type": "code",
   "execution_count": 206,
   "metadata": {
    "collapsed": false
   },
   "outputs": [
    {
     "data": {
      "text/plain": [
       "(array([11., 24., 21., 10.,  6.,  6.,  5.,  0.,  0.,  1.]),\n",
       " array([ 4. ,  8.6, 13.2, 17.8, 22.4, 27. , 31.6, 36.2, 40.8, 45.4, 50. ]),\n",
       " <BarContainer object of 10 artists>)"
      ]
     },
     "execution_count": 206,
     "metadata": {},
     "output_type": "execute_result"
    },
    {
     "data": {
      "image/png": "[encoded data removed]",
      "text/plain": [
       "<Figure size 432x288 with 1 Axes>"
      ]
     },
     "metadata": {
      "needs_background": "light"
     },
     "output_type": "display_data"
    }
   ],
   "source": [
    "import matplotlib.pyplot as plt\n",
    "%matplotlib inline\n",
    "plt.hist(survey[\"length\"])"
   ]
  },
  {
   "cell_type": "markdown",
   "metadata": {
    "collapsed": false
   },
   "source": [
    "### ノック94：形態素解析で文章を分割してみよう"
   ]
  },
  {
   "cell_type": "code",
   "execution_count": 207,
   "metadata": {
    "collapsed": false
   },
   "outputs": [
    {
     "data": {
      "text/plain": [
       "'すもも\\t名詞,一般,*,*,*,*,すもも,スモモ,スモモ\\nも\\t助詞,係助詞,*,*,*,*,も,モ,モ\\nもも\\t名詞,一般,*,*,*,*,もも,モモ,モモ\\nも\\t助詞,係助詞,*,*,*,*,も,モ,モ\\nもも\\t名詞,一般,*,*,*,*,もも,モモ,モモ\\nの\\t助詞,連体化,*,*,*,*,の,ノ,ノ\\nうち\\t名詞,非自立,副詞可能,*,*,*,うち,ウチ,ウチ\\nEOS\\n'"
      ]
     },
     "execution_count": 207,
     "metadata": {},
     "output_type": "execute_result"
    }
   ],
   "source": [
    "import MeCab\n",
    "tagger = MeCab.Tagger()\n",
    "text = \"すもももももももものうち\"\n",
    "words = tagger.parse(text)\n",
    "words"
   ]
  },
  {
   "cell_type": "code",
   "execution_count": 208,
   "metadata": {
    "collapsed": false
   },
   "outputs": [
    {
     "data": {
      "text/plain": [
       "['すもも', 'も', 'もも', 'も', 'もも', 'の', 'うち']"
      ]
     },
     "execution_count": 208,
     "metadata": {},
     "output_type": "execute_result"
    }
   ],
   "source": [
    "words = tagger.parse(text).splitlines()\n",
    "words_arr = []\n",
    "for i in words:\n",
    "    if i == 'EOS': continue\n",
    "    word_tmp = i.split()[0]\n",
    "    words_arr.append(word_tmp)\n",
    "words_arr"
   ]
  },
  {
   "cell_type": "markdown",
   "metadata": {
    "collapsed": false
   },
   "source": [
    "### ノック95：形態素解析で文章から「動詞・名詞」を抽出してみよう"
   ]
  },
  {
   "cell_type": "code",
   "execution_count": 209,
   "metadata": {
    "collapsed": false
   },
   "outputs": [
    {
     "data": {
      "text/plain": [
       "['すもも', 'もも', 'もも', 'うち']"
      ]
     },
     "execution_count": 209,
     "metadata": {},
     "output_type": "execute_result"
    }
   ],
   "source": [
    "text = 'すもももももももものうち'\n",
    "words = tagger.parse(text).splitlines()\n",
    "words_arr = []\n",
    "parts = ['名詞', '動詞']\n",
    "for i in words:\n",
    "    if i == 'EOS' or i == '': continue\n",
    "    word_tmp = i.split()[0]\n",
    "    part = i.split()[1].split(',')[0]\n",
    "    if not (part in parts): continue\n",
    "    words_arr.append(word_tmp)\n",
    "words_arr"
   ]
  },
  {
   "cell_type": "markdown",
   "metadata": {
    "collapsed": false
   },
   "source": [
    "### ノック96：形態素解析で抽出した頻出する名詞を確認してみよう"
   ]
  },
  {
   "cell_type": "code",
   "execution_count": 215,
   "metadata": {
    "collapsed": false
   },
   "outputs": [
    {
     "data": {
      "text/plain": [
       "['駅前', '若者', 'スポーツ', '場所', 'の', '子育て', '支援', '保育園', '駅前', '商店']"
      ]
     },
     "execution_count": 215,
     "metadata": {},
     "output_type": "execute_result"
    }
   ],
   "source": [
    "all_words = []\n",
    "for n in range(len(survey)):\n",
    "    text = survey['comment'].iloc[n]\n",
    "    words = tagger.parse(text).splitlines()\n",
    "    words_arr = []\n",
    "    for w in words:\n",
    "        if w == 'EOS' or w == '': continue\n",
    "        category = w.split()[1].split(',')[0]\n",
    "        if category == '名詞':\n",
    "            word = w.split()[0]\n",
    "            all_words.append(word)\n",
    "all_words[:10]"
   ]
  },
  {
   "cell_type": "code",
   "execution_count": 211,
   "metadata": {
    "collapsed": false
   },
   "outputs": [
    {
     "data": {
      "text/html": [
       "<div>\n",
       "<style scoped>\n",
       "    .dataframe tbody tr th:only-of-type {\n",
       "        vertical-align: middle;\n",
       "    }\n",
       "\n",
       "    .dataframe tbody tr th {\n",
       "        vertical-align: top;\n",
       "    }\n",
       "\n",
       "    .dataframe thead th {\n",
       "        text-align: right;\n",
       "    }\n",
       "</style>\n",
       "<table border=\"1\" class=\"dataframe\">\n",
       "  <thead>\n",
       "    <tr style=\"text-align: right;\">\n",
       "      <th></th>\n",
       "      <th>count</th>\n",
       "    </tr>\n",
       "    <tr>\n",
       "      <th>words</th>\n",
       "      <th></th>\n",
       "    </tr>\n",
       "  </thead>\n",
       "  <tbody>\n",
       "  </tbody>\n",
       "</table>\n",
       "</div>"
      ],
      "text/plain": [
       "Empty DataFrame\n",
       "Columns: [count]\n",
       "Index: []"
      ]
     },
     "execution_count": 211,
     "metadata": {},
     "output_type": "execute_result"
    }
   ],
   "source": [
    "all_words_df = pd.DataFrame({'words': all_words, 'count': len(all_words)*[1]})\n",
    "all_words_df = all_words_df.groupby('words').sum()\n",
    "all_words_df.sort_values('count', ascending=False)"
   ]
  },
  {
   "cell_type": "markdown",
   "metadata": {
    "collapsed": false
   },
   "source": [
    "### ノック97：関係のない単語を除去しよう"
   ]
  },
  {
   "cell_type": "code",
   "execution_count": 228,
   "metadata": {
    "collapsed": false
   },
   "outputs": [],
   "source": [
    "all_words = []\n",
    "stop_words = ['の']\n",
    "categories = ['名詞']\n",
    "\n",
    "for n in range(len(survey)):\n",
    "    text = survey['comment'].iloc[n]\n",
    "    words = tagger.parse(text).splitlines()\n",
    "    for w in words:\n",
    "        if w == 'EOS' or w == '':\n",
    "            continue\n",
    "        candidate = w.split()[0]\n",
    "        if candidate in stop_words:\n",
    "            continue\n",
    "        category = w.split()[1].split(',')[0]\n",
    "        if category in categories:\n",
    "            all_words.append(candidate)\n",
    "all_words\n",
    "all_words_df = pd.DataFrame({'words': all_words,\n",
    "                             'count': len(all_words) * [1]})"
   ]
  },
  {
   "cell_type": "code",
   "execution_count": 229,
   "metadata": {
    "collapsed": false
   },
   "outputs": [
    {
     "data": {
      "text/html": [
       "<div>\n",
       "<style scoped>\n",
       "    .dataframe tbody tr th:only-of-type {\n",
       "        vertical-align: middle;\n",
       "    }\n",
       "\n",
       "    .dataframe tbody tr th {\n",
       "        vertical-align: top;\n",
       "    }\n",
       "\n",
       "    .dataframe thead th {\n",
       "        text-align: right;\n",
       "    }\n",
       "</style>\n",
       "<table border=\"1\" class=\"dataframe\">\n",
       "  <thead>\n",
       "    <tr style=\"text-align: right;\">\n",
       "      <th></th>\n",
       "      <th>count</th>\n",
       "    </tr>\n",
       "    <tr>\n",
       "      <th>words</th>\n",
       "      <th></th>\n",
       "    </tr>\n",
       "  </thead>\n",
       "  <tbody>\n",
       "    <tr>\n",
       "      <th>駅前</th>\n",
       "      <td>7</td>\n",
       "    </tr>\n",
       "    <tr>\n",
       "      <th>場所</th>\n",
       "      <td>6</td>\n",
       "    </tr>\n",
       "    <tr>\n",
       "      <th>街</th>\n",
       "      <td>6</td>\n",
       "    </tr>\n",
       "    <tr>\n",
       "      <th>公園</th>\n",
       "      <td>5</td>\n",
       "    </tr>\n",
       "    <tr>\n",
       "      <th>商店</th>\n",
       "      <td>5</td>\n",
       "    </tr>\n",
       "    <tr>\n",
       "      <th>...</th>\n",
       "      <td>...</td>\n",
       "    </tr>\n",
       "    <tr>\n",
       "      <th>奇麗</th>\n",
       "      <td>1</td>\n",
       "    </tr>\n",
       "    <tr>\n",
       "      <th>姿勢</th>\n",
       "      <td>1</td>\n",
       "    </tr>\n",
       "    <tr>\n",
       "      <th>子ども</th>\n",
       "      <td>1</td>\n",
       "    </tr>\n",
       "    <tr>\n",
       "      <th>子供</th>\n",
       "      <td>1</td>\n",
       "    </tr>\n",
       "    <tr>\n",
       "      <th>ｘｘｘ</th>\n",
       "      <td>1</td>\n",
       "    </tr>\n",
       "  </tbody>\n",
       "</table>\n",
       "<p>183 rows × 1 columns</p>\n",
       "</div>"
      ],
      "text/plain": [
       "       count\n",
       "words       \n",
       "駅前         7\n",
       "場所         6\n",
       "街          6\n",
       "公園         5\n",
       "商店         5\n",
       "...      ...\n",
       "奇麗         1\n",
       "姿勢         1\n",
       "子ども        1\n",
       "子供         1\n",
       "ｘｘｘ        1\n",
       "\n",
       "[183 rows x 1 columns]"
      ]
     },
     "execution_count": 229,
     "metadata": {},
     "output_type": "execute_result"
    }
   ],
   "source": [
    "all_words_df = pd.DataFrame({'words': all_words, 'count': len(all_words) * [1]})\n",
    "all_words_df = all_words_df.groupby('words').sum()\n",
    "all_words_df.sort_values('count', ascending=False)"
   ]
  },
  {
   "cell_type": "markdown",
   "metadata": {
    "collapsed": false
   },
   "source": [
    "### ノック98：顧客満足度と頻出単語の関係をみてみよう"
   ]
  },
  {
   "cell_type": "code",
   "execution_count": 230,
   "metadata": {
    "collapsed": false
   },
   "outputs": [],
   "source": [
    "all_words = []\n",
    "satisfaction = []\n",
    "stop_words = ['の']\n",
    "categories = ['名詞']\n",
    "\n",
    "for n in range(len(survey)):\n",
    "    text = survey['comment'].iloc[n]\n",
    "    words = tagger.parse(text).splitlines()\n",
    "    for w in words:\n",
    "        if w == 'EOS' or w == '':\n",
    "            continue\n",
    "        candidate = w.split()[0]\n",
    "        if candidate in stop_words:\n",
    "            continue\n",
    "        category = w.split()[1].split(',')[0]\n",
    "        if category in categories:\n",
    "            all_words.append(candidate)\n",
    "            satisfaction.append(survey['satisfaction'].iloc[n])\n",
    "all_words\n",
    "all_words_df = pd.DataFrame({'words': all_words,\n",
    "                             'satisfaction': satisfaction,\n",
    "                             'count': len(all_words) * [1]})"
   ]
  },
  {
   "cell_type": "code",
   "execution_count": 213,
   "metadata": {
    "collapsed": false
   },
   "outputs": [],
   "source": []
  },
  {
   "cell_type": "code",
   "execution_count": 213,
   "metadata": {
    "collapsed": false
   },
   "outputs": [],
   "source": []
  },
  {
   "cell_type": "code",
   "execution_count": 213,
   "metadata": {
    "collapsed": false
   },
   "outputs": [],
   "source": []
  },
  {
   "cell_type": "markdown",
   "metadata": {
    "collapsed": false
   },
   "source": [
    "### ノック99：アンケート毎の特徴を表現してみよう"
   ]
  },
  {
   "cell_type": "code",
   "execution_count": 213,
   "metadata": {
    "collapsed": false
   },
   "outputs": [],
   "source": []
  },
  {
   "cell_type": "code",
   "execution_count": 213,
   "metadata": {
    "collapsed": false
   },
   "outputs": [],
   "source": []
  },
  {
   "cell_type": "markdown",
   "metadata": {
    "collapsed": false
   },
   "source": [
    "### ノック100：類似アンケートを探してみよう"
   ]
  },
  {
   "cell_type": "code",
   "execution_count": 213,
   "metadata": {
    "collapsed": false
   },
   "outputs": [],
   "source": []
  },
  {
   "cell_type": "code",
   "execution_count": 213,
   "metadata": {
    "collapsed": false
   },
   "outputs": [],
   "source": []
  },
  {
   "cell_type": "code",
   "execution_count": 213,
   "metadata": {
    "collapsed": false
   },
   "outputs": [],
   "source": []
  }
 ],
 "metadata": {
  "kernelspec": {
   "argv": [
    "/usr/local/opt/python@3.9/bin/python3.9",
    "-m",
    "ipykernel_launcher",
    "-f",
    "{connection_file}"
   ],
   "display_name": "newenv",
   "env": null,
   "interrupt_mode": "signal",
   "language": "python",
   "metadata": null,
   "name": "newenv"
  },
  "language_info": {
   "codemirror_mode": {
    "name": "ipython",
    "version": 3
   },
   "file_extension": ".py",
   "mimetype": "text/x-python",
   "name": "python",
   "nbconvert_exporter": "python",
   "pygments_lexer": "ipython3",
   "version": "3.6.4"
  },
  "name": "chap10.ipynb"
 },
 "nbformat": 4,
 "nbformat_minor": 2
}
